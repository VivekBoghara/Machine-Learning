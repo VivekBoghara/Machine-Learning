{
 "cells": [
  {
   "cell_type": "code",
   "execution_count": 3,
   "id": "7116dd08",
   "metadata": {},
   "outputs": [],
   "source": [
    "import numpy as np\n",
    "import pandas as pd\n",
    "import re\n",
    "import matplotlib.pyplot as plt\n",
    "import seaborn as sns\n",
    "from sklearn.metrics import r2_score,mean_absolute_error,mean_squared_error\n",
    "from sklearn.datasets import load_diabetes\n",
    "from sklearn.model_selection import train_test_split\n",
    "from sklearn.linear_model import LinearRegression"
   ]
  },
  {
   "cell_type": "markdown",
   "id": "b348e035",
   "metadata": {},
   "source": [
    "#Problem Statement\n",
    "In this data, we have one independent variable(Feature) \"Hours of study\" and one dependent variable(Target) \"Marks\". You have train a SVR model to understand the relationship between the Hours and the student to predict the student's marks based on their number of hours dedicated to studies."
   ]
  },
  {
   "cell_type": "markdown",
   "id": "588fc3bb",
   "metadata": {},
   "source": [
    "# Importing the dataset"
   ]
  },
  {
   "cell_type": "code",
   "execution_count": 4,
   "id": "876128f1",
   "metadata": {},
   "outputs": [],
   "source": [
    "df=pd.read_csv(\"https://raw.githubusercontent.com/mk-gurucharan/Regression/master/SampleData.csv\")"
   ]
  },
  {
   "cell_type": "code",
   "execution_count": 5,
   "id": "d641fdda",
   "metadata": {},
   "outputs": [
    {
     "data": {
      "text/html": [
       "<div>\n",
       "<style scoped>\n",
       "    .dataframe tbody tr th:only-of-type {\n",
       "        vertical-align: middle;\n",
       "    }\n",
       "\n",
       "    .dataframe tbody tr th {\n",
       "        vertical-align: top;\n",
       "    }\n",
       "\n",
       "    .dataframe thead th {\n",
       "        text-align: right;\n",
       "    }\n",
       "</style>\n",
       "<table border=\"1\" class=\"dataframe\">\n",
       "  <thead>\n",
       "    <tr style=\"text-align: right;\">\n",
       "      <th></th>\n",
       "      <th>Hours of Study</th>\n",
       "      <th>Marks</th>\n",
       "    </tr>\n",
       "  </thead>\n",
       "  <tbody>\n",
       "    <tr>\n",
       "      <th>0</th>\n",
       "      <td>32.502345</td>\n",
       "      <td>31.707006</td>\n",
       "    </tr>\n",
       "    <tr>\n",
       "      <th>1</th>\n",
       "      <td>53.426804</td>\n",
       "      <td>68.777596</td>\n",
       "    </tr>\n",
       "    <tr>\n",
       "      <th>2</th>\n",
       "      <td>61.530358</td>\n",
       "      <td>62.562382</td>\n",
       "    </tr>\n",
       "    <tr>\n",
       "      <th>3</th>\n",
       "      <td>47.475640</td>\n",
       "      <td>71.546632</td>\n",
       "    </tr>\n",
       "    <tr>\n",
       "      <th>4</th>\n",
       "      <td>59.813208</td>\n",
       "      <td>87.230925</td>\n",
       "    </tr>\n",
       "  </tbody>\n",
       "</table>\n",
       "</div>"
      ],
      "text/plain": [
       "   Hours of Study      Marks\n",
       "0       32.502345  31.707006\n",
       "1       53.426804  68.777596\n",
       "2       61.530358  62.562382\n",
       "3       47.475640  71.546632\n",
       "4       59.813208  87.230925"
      ]
     },
     "execution_count": 5,
     "metadata": {},
     "output_type": "execute_result"
    }
   ],
   "source": [
    "df.head()"
   ]
  },
  {
   "cell_type": "code",
   "execution_count": 7,
   "id": "5c422641",
   "metadata": {},
   "outputs": [
    {
     "name": "stdout",
     "output_type": "stream",
     "text": [
      "<class 'pandas.core.frame.DataFrame'>\n",
      "RangeIndex: 100 entries, 0 to 99\n",
      "Data columns (total 2 columns):\n",
      " #   Column          Non-Null Count  Dtype  \n",
      "---  ------          --------------  -----  \n",
      " 0   Hours of Study  100 non-null    float64\n",
      " 1   Marks           100 non-null    float64\n",
      "dtypes: float64(2)\n",
      "memory usage: 1.7 KB\n"
     ]
    }
   ],
   "source": [
    "df.info()"
   ]
  },
  {
   "cell_type": "code",
   "execution_count": 8,
   "id": "a3685183",
   "metadata": {},
   "outputs": [
    {
     "data": {
      "text/plain": [
       "Hours of Study    0\n",
       "Marks             0\n",
       "dtype: int64"
      ]
     },
     "execution_count": 8,
     "metadata": {},
     "output_type": "execute_result"
    }
   ],
   "source": [
    "df.isnull().sum()"
   ]
  },
  {
   "cell_type": "code",
   "execution_count": 11,
   "id": "34552b9f",
   "metadata": {},
   "outputs": [],
   "source": [
    "df.rename(columns={\"Hours of Study\":\"Hours\"},inplace=True)\n",
    "#or you can use\n",
    "#df.columns=[\"Hours\",\"Marks\"]"
   ]
  },
  {
   "cell_type": "code",
   "execution_count": 12,
   "id": "d2633630",
   "metadata": {},
   "outputs": [
    {
     "data": {
      "text/html": [
       "<div>\n",
       "<style scoped>\n",
       "    .dataframe tbody tr th:only-of-type {\n",
       "        vertical-align: middle;\n",
       "    }\n",
       "\n",
       "    .dataframe tbody tr th {\n",
       "        vertical-align: top;\n",
       "    }\n",
       "\n",
       "    .dataframe thead th {\n",
       "        text-align: right;\n",
       "    }\n",
       "</style>\n",
       "<table border=\"1\" class=\"dataframe\">\n",
       "  <thead>\n",
       "    <tr style=\"text-align: right;\">\n",
       "      <th></th>\n",
       "      <th>Hours</th>\n",
       "      <th>Marks</th>\n",
       "    </tr>\n",
       "  </thead>\n",
       "  <tbody>\n",
       "    <tr>\n",
       "      <th>0</th>\n",
       "      <td>32.502345</td>\n",
       "      <td>31.707006</td>\n",
       "    </tr>\n",
       "    <tr>\n",
       "      <th>1</th>\n",
       "      <td>53.426804</td>\n",
       "      <td>68.777596</td>\n",
       "    </tr>\n",
       "    <tr>\n",
       "      <th>2</th>\n",
       "      <td>61.530358</td>\n",
       "      <td>62.562382</td>\n",
       "    </tr>\n",
       "    <tr>\n",
       "      <th>3</th>\n",
       "      <td>47.475640</td>\n",
       "      <td>71.546632</td>\n",
       "    </tr>\n",
       "    <tr>\n",
       "      <th>4</th>\n",
       "      <td>59.813208</td>\n",
       "      <td>87.230925</td>\n",
       "    </tr>\n",
       "  </tbody>\n",
       "</table>\n",
       "</div>"
      ],
      "text/plain": [
       "       Hours      Marks\n",
       "0  32.502345  31.707006\n",
       "1  53.426804  68.777596\n",
       "2  61.530358  62.562382\n",
       "3  47.475640  71.546632\n",
       "4  59.813208  87.230925"
      ]
     },
     "execution_count": 12,
     "metadata": {},
     "output_type": "execute_result"
    }
   ],
   "source": [
    "df.head()"
   ]
  },
  {
   "cell_type": "code",
   "execution_count": 14,
   "id": "a0b7faab",
   "metadata": {},
   "outputs": [
    {
     "data": {
      "text/plain": [
       "Text(0.5, 1.0, 'Hours of Study V/s Marks')"
      ]
     },
     "execution_count": 14,
     "metadata": {},
     "output_type": "execute_result"
    },
    {
     "data": {
      "image/png": "[encoded data removed]",
      "text/plain": [
       "<Figure size 432x288 with 1 Axes>"
      ]
     },
     "metadata": {
      "needs_background": "light"
     },
     "output_type": "display_data"
    }
   ],
   "source": [
    "plt.scatter(df.Hours,df.Marks)\n",
    "plt.xlabel(\"Hours of Study\")\n",
    "plt.ylabel(\"Marks\")\n",
    "plt.title(\"Hours of Study V/s Marks\")"
   ]
  },
  {
   "cell_type": "code",
   "execution_count": 17,
   "id": "64a4e1af",
   "metadata": {},
   "outputs": [
    {
     "data": {
      "text/plain": [
       "<AxesSubplot:>"
      ]
     },
     "execution_count": 17,
     "metadata": {},
     "output_type": "execute_result"
    },
    {
     "data": {
      "image/png": "[encoded data removed]",
      "text/plain": [
       "<Figure size 720x720 with 2 Axes>"
      ]
     },
     "metadata": {
      "needs_background": "light"
     },
     "output_type": "display_data"
    }
   ],
   "source": [
    "plt.figure(figsize=(10,10))\n",
    "sns.heatmap(df.corr(),annot=True)"
   ]
  },
  {
   "cell_type": "code",
   "execution_count": 19,
   "id": "e1bbb463",
   "metadata": {},
   "outputs": [
    {
     "data": {
      "text/plain": [
       "<seaborn.axisgrid.PairGrid at 0x235ebf0ad90>"
      ]
     },
     "execution_count": 19,
     "metadata": {},
     "output_type": "execute_result"
    },
    {
     "data": {
      "image/png": "[encoded data removed]",
      "text/plain": [
       "<Figure size 360x360 with 6 Axes>"
      ]
     },
     "metadata": {
      "needs_background": "light"
     },
     "output_type": "display_data"
    }
   ],
   "source": [
    "sns.pairplot(df)"
   ]
  },
  {
   "cell_type": "code",
   "execution_count": 21,
   "id": "2edb2e5e",
   "metadata": {},
   "outputs": [
    {
     "data": {
      "text/plain": [
       "[<matplotlib.lines.Line2D at 0x235ec7c6970>]"
      ]
     },
     "execution_count": 21,
     "metadata": {},
     "output_type": "execute_result"
    },
    {
     "data": {
      "image/png": "[encoded data removed]",
      "text/plain": [
       "<Figure size 432x288 with 1 Axes>"
      ]
     },
     "metadata": {
      "needs_background": "light"
     },
     "output_type": "display_data"
    }
   ],
   "source": [
    "plt.plot(df.Hours,df.Marks)"
   ]
  },
  {
   "cell_type": "code",
   "execution_count": null,
   "id": "c4e9073d",
   "metadata": {},
   "outputs": [],
   "source": []
  },
  {
   "cell_type": "markdown",
   "id": "019b4696",
   "metadata": {},
   "source": [
    "# Feature Scalling"
   ]
  },
  {
   "cell_type": "markdown",
   "id": "e73b82ec",
   "metadata": {},
   "source": [
    "    Standardization\n",
    "    Normalization"
   ]
  },
  {
   "cell_type": "code",
   "execution_count": 22,
   "id": "9dcf9670",
   "metadata": {},
   "outputs": [
    {
     "data": {
      "text/html": [
       "<div>\n",
       "<style scoped>\n",
       "    .dataframe tbody tr th:only-of-type {\n",
       "        vertical-align: middle;\n",
       "    }\n",
       "\n",
       "    .dataframe tbody tr th {\n",
       "        vertical-align: top;\n",
       "    }\n",
       "\n",
       "    .dataframe thead th {\n",
       "        text-align: right;\n",
       "    }\n",
       "</style>\n",
       "<table border=\"1\" class=\"dataframe\">\n",
       "  <thead>\n",
       "    <tr style=\"text-align: right;\">\n",
       "      <th></th>\n",
       "      <th>Hours</th>\n",
       "      <th>Marks</th>\n",
       "    </tr>\n",
       "  </thead>\n",
       "  <tbody>\n",
       "    <tr>\n",
       "      <th>0</th>\n",
       "      <td>32.502345</td>\n",
       "      <td>31.707006</td>\n",
       "    </tr>\n",
       "    <tr>\n",
       "      <th>1</th>\n",
       "      <td>53.426804</td>\n",
       "      <td>68.777596</td>\n",
       "    </tr>\n",
       "    <tr>\n",
       "      <th>2</th>\n",
       "      <td>61.530358</td>\n",
       "      <td>62.562382</td>\n",
       "    </tr>\n",
       "    <tr>\n",
       "      <th>3</th>\n",
       "      <td>47.475640</td>\n",
       "      <td>71.546632</td>\n",
       "    </tr>\n",
       "    <tr>\n",
       "      <th>4</th>\n",
       "      <td>59.813208</td>\n",
       "      <td>87.230925</td>\n",
       "    </tr>\n",
       "  </tbody>\n",
       "</table>\n",
       "</div>"
      ],
      "text/plain": [
       "       Hours      Marks\n",
       "0  32.502345  31.707006\n",
       "1  53.426804  68.777596\n",
       "2  61.530358  62.562382\n",
       "3  47.475640  71.546632\n",
       "4  59.813208  87.230925"
      ]
     },
     "execution_count": 22,
     "metadata": {},
     "output_type": "execute_result"
    }
   ],
   "source": [
    "df.head()"
   ]
  },
  {
   "cell_type": "code",
   "execution_count": null,
   "id": "e915fb60",
   "metadata": {},
   "outputs": [],
   "source": [
    "-1 to 1   #<- When you convert these data values in range of -1 to 1 it will increase the accuracy of the model and it helps us to improve the model\n",
    "# And, our machine learning main aim is to increase the accuracy of model"
   ]
  },
  {
   "cell_type": "code",
   "execution_count": 23,
   "id": "c5761665",
   "metadata": {},
   "outputs": [],
   "source": [
    "from sklearn.preprocessing import StandardScaler"
   ]
  },
  {
   "cell_type": "code",
   "execution_count": 24,
   "id": "bf3bfb3a",
   "metadata": {},
   "outputs": [],
   "source": [
    "x=np.array(df.Hours)\n",
    "y=np.array(df.Marks)"
   ]
  },
  {
   "cell_type": "code",
   "execution_count": 25,
   "id": "1a05ff00",
   "metadata": {},
   "outputs": [
    {
     "data": {
      "text/plain": [
       "array([32.50234527, 53.42680403, 61.53035803, 47.47563963, 59.81320787,\n",
       "       55.14218841, 52.21179669, 39.29956669, 48.10504169, 52.55001444,\n",
       "       45.41973014, 54.35163488, 44.1640495 , 58.16847072, 56.72720806,\n",
       "       48.95588857, 44.68719623, 60.29732685, 45.61864377, 38.81681754,\n",
       "       66.18981661, 65.41605175, 47.48120861, 41.57564262, 51.84518691,\n",
       "       59.37082201, 57.31000344, 63.61556125, 46.73761941, 50.55676015,\n",
       "       52.22399609, 35.56783005, 42.43647694, 58.16454011, 57.50444762,\n",
       "       45.44053073, 61.89622268, 33.09383174, 36.43600951, 37.67565486,\n",
       "       44.55560838, 43.31828263, 50.07314563, 43.87061265, 62.99748075,\n",
       "       32.66904376, 40.16689901, 53.57507753, 33.86421497, 64.70713867,\n",
       "       38.11982403, 44.50253806, 40.59953838, 41.72067636, 51.08863468,\n",
       "       55.0780959 , 41.37772653, 62.49469743, 49.20388754, 41.10268519,\n",
       "       41.18201611, 50.18638949, 52.37844622, 50.13548549, 33.64470601,\n",
       "       39.55790122, 56.13038882, 57.36205213, 60.26921439, 35.67809389,\n",
       "       31.588117  , 53.66093226, 46.68222865, 43.10782022, 70.34607562,\n",
       "       44.49285588, 57.5045333 , 36.93007661, 55.80573336, 38.95476907,\n",
       "       56.9012147 , 56.86890066, 34.3331247 , 59.04974121, 57.78822399,\n",
       "       54.28232871, 51.0887199 , 50.28283635, 44.21174175, 38.00548801,\n",
       "       32.94047994, 53.69163957, 68.76573427, 46.2309665 , 68.31936082,\n",
       "       50.03017434, 49.23976534, 50.03957594, 48.14985889, 25.12848465])"
      ]
     },
     "execution_count": 25,
     "metadata": {},
     "output_type": "execute_result"
    }
   ],
   "source": [
    "x"
   ]
  },
  {
   "cell_type": "code",
   "execution_count": 26,
   "id": "25f5bbf6",
   "metadata": {},
   "outputs": [
    {
     "data": {
      "text/plain": [
       "array([31.70700585, 68.77759598, 62.5623823 , 71.54663223, 87.23092513,\n",
       "       78.21151827, 79.64197305, 59.17148932, 75.3312423 , 71.30087989,\n",
       "       55.16567715, 82.47884676, 62.00892325, 75.39287043, 81.43619216,\n",
       "       60.72360244, 82.89250373, 97.37989686, 48.84715332, 56.87721319,\n",
       "       83.87856466, 98.5912173 , 57.25181946, 51.39174408, 75.38065167,\n",
       "       74.76556403, 95.45505292, 95.22936602, 79.05240617, 83.43207142,\n",
       "       63.35879032, 41.4128853 , 76.61734128, 96.76956643, 74.08413012,\n",
       "       66.58814441, 77.76848242, 50.71958891, 62.12457082, 60.81024665,\n",
       "       52.68298337, 58.56982472, 82.90598149, 61.4247098 , 95.2441528 ,\n",
       "       45.57058882, 54.0840548 , 87.99445276, 52.72549438, 93.57611869,\n",
       "       80.16627545, 65.10171157, 65.56230126, 65.28088692, 73.43464155,\n",
       "       71.13972786, 79.10282968, 86.52053844, 84.74269781, 59.35885025,\n",
       "       61.68403752, 69.84760416, 86.09829121, 59.10883927, 69.89968164,\n",
       "       44.86249071, 85.49806778, 95.53668685, 70.25193442, 52.72173496,\n",
       "       50.39267014, 63.64239878, 72.24725107, 57.81251298, 94.25710159,\n",
       "       86.64202032, 91.486778  , 55.23166089, 79.55043668, 44.84712424,\n",
       "       80.20752314, 83.14274979, 55.72348926, 77.63418251, 99.05141484,\n",
       "       79.12064627, 69.58889785, 69.51050331, 73.68756432, 61.36690454,\n",
       "       67.17065577, 85.66820315, 94.85387123, 90.12357207, 97.91982104,\n",
       "       81.53699078, 72.11183247, 85.23200734, 66.22495789, 53.45439421])"
      ]
     },
     "execution_count": 26,
     "metadata": {},
     "output_type": "execute_result"
    }
   ],
   "source": [
    "y"
   ]
  },
  {
   "cell_type": "code",
   "execution_count": 30,
   "id": "0383fa03",
   "metadata": {
    "scrolled": true
   },
   "outputs": [
    {
     "data": {
      "text/plain": [
       "Hours    32.502345\n",
       "Marks    31.707006\n",
       "Name: 0, dtype: float64"
      ]
     },
     "execution_count": 30,
     "metadata": {},
     "output_type": "execute_result"
    }
   ],
   "source": [
    "df.iloc[0]"
   ]
  },
  {
   "cell_type": "code",
   "execution_count": 32,
   "id": "dca78914",
   "metadata": {},
   "outputs": [
    {
     "data": {
      "text/plain": [
       "Hours    32.502345\n",
       "Marks    31.707006\n",
       "Name: 0, dtype: float64"
      ]
     },
     "execution_count": 32,
     "metadata": {},
     "output_type": "execute_result"
    }
   ],
   "source": [
    "df.iloc[0,]"
   ]
  },
  {
   "cell_type": "code",
   "execution_count": 33,
   "id": "a72f0ced",
   "metadata": {},
   "outputs": [
    {
     "data": {
      "text/plain": [
       "32.50234527"
      ]
     },
     "execution_count": 33,
     "metadata": {},
     "output_type": "execute_result"
    }
   ],
   "source": [
    "df.iloc[0,0]   #<- The last 0 after , will give the column index number"
   ]
  },
  {
   "cell_type": "code",
   "execution_count": 39,
   "id": "0c9822d8",
   "metadata": {},
   "outputs": [
    {
     "data": {
      "text/html": [
       "<div>\n",
       "<style scoped>\n",
       "    .dataframe tbody tr th:only-of-type {\n",
       "        vertical-align: middle;\n",
       "    }\n",
       "\n",
       "    .dataframe tbody tr th {\n",
       "        vertical-align: top;\n",
       "    }\n",
       "\n",
       "    .dataframe thead th {\n",
       "        text-align: right;\n",
       "    }\n",
       "</style>\n",
       "<table border=\"1\" class=\"dataframe\">\n",
       "  <thead>\n",
       "    <tr style=\"text-align: right;\">\n",
       "      <th></th>\n",
       "      <th>Hours</th>\n",
       "      <th>Marks</th>\n",
       "    </tr>\n",
       "  </thead>\n",
       "  <tbody>\n",
       "    <tr>\n",
       "      <th>0</th>\n",
       "      <td>32.502345</td>\n",
       "      <td>31.707006</td>\n",
       "    </tr>\n",
       "    <tr>\n",
       "      <th>1</th>\n",
       "      <td>53.426804</td>\n",
       "      <td>68.777596</td>\n",
       "    </tr>\n",
       "    <tr>\n",
       "      <th>2</th>\n",
       "      <td>61.530358</td>\n",
       "      <td>62.562382</td>\n",
       "    </tr>\n",
       "    <tr>\n",
       "      <th>3</th>\n",
       "      <td>47.475640</td>\n",
       "      <td>71.546632</td>\n",
       "    </tr>\n",
       "    <tr>\n",
       "      <th>4</th>\n",
       "      <td>59.813208</td>\n",
       "      <td>87.230925</td>\n",
       "    </tr>\n",
       "    <tr>\n",
       "      <th>...</th>\n",
       "      <td>...</td>\n",
       "      <td>...</td>\n",
       "    </tr>\n",
       "    <tr>\n",
       "      <th>95</th>\n",
       "      <td>50.030174</td>\n",
       "      <td>81.536991</td>\n",
       "    </tr>\n",
       "    <tr>\n",
       "      <th>96</th>\n",
       "      <td>49.239765</td>\n",
       "      <td>72.111832</td>\n",
       "    </tr>\n",
       "    <tr>\n",
       "      <th>97</th>\n",
       "      <td>50.039576</td>\n",
       "      <td>85.232007</td>\n",
       "    </tr>\n",
       "    <tr>\n",
       "      <th>98</th>\n",
       "      <td>48.149859</td>\n",
       "      <td>66.224958</td>\n",
       "    </tr>\n",
       "    <tr>\n",
       "      <th>99</th>\n",
       "      <td>25.128485</td>\n",
       "      <td>53.454394</td>\n",
       "    </tr>\n",
       "  </tbody>\n",
       "</table>\n",
       "<p>100 rows × 2 columns</p>\n",
       "</div>"
      ],
      "text/plain": [
       "        Hours      Marks\n",
       "0   32.502345  31.707006\n",
       "1   53.426804  68.777596\n",
       "2   61.530358  62.562382\n",
       "3   47.475640  71.546632\n",
       "4   59.813208  87.230925\n",
       "..        ...        ...\n",
       "95  50.030174  81.536991\n",
       "96  49.239765  72.111832\n",
       "97  50.039576  85.232007\n",
       "98  48.149859  66.224958\n",
       "99  25.128485  53.454394\n",
       "\n",
       "[100 rows x 2 columns]"
      ]
     },
     "execution_count": 39,
     "metadata": {},
     "output_type": "execute_result"
    }
   ],
   "source": [
    "df.iloc[:,]"
   ]
  },
  {
   "cell_type": "code",
   "execution_count": 41,
   "id": "7ab3b8e8",
   "metadata": {},
   "outputs": [
    {
     "data": {
      "text/plain": [
       "0     31.707006\n",
       "1     68.777596\n",
       "2     62.562382\n",
       "3     71.546632\n",
       "4     87.230925\n",
       "        ...    \n",
       "95    81.536991\n",
       "96    72.111832\n",
       "97    85.232007\n",
       "98    66.224958\n",
       "99    53.454394\n",
       "Name: Marks, Length: 100, dtype: float64"
      ]
     },
     "execution_count": 41,
     "metadata": {},
     "output_type": "execute_result"
    }
   ],
   "source": [
    "df.iloc[:,-1]  #<- it will give the last column values"
   ]
  },
  {
   "cell_type": "code",
   "execution_count": 38,
   "id": "0a893bc3",
   "metadata": {},
   "outputs": [
    {
     "data": {
      "text/html": [
       "<div>\n",
       "<style scoped>\n",
       "    .dataframe tbody tr th:only-of-type {\n",
       "        vertical-align: middle;\n",
       "    }\n",
       "\n",
       "    .dataframe tbody tr th {\n",
       "        vertical-align: top;\n",
       "    }\n",
       "\n",
       "    .dataframe thead th {\n",
       "        text-align: right;\n",
       "    }\n",
       "</style>\n",
       "<table border=\"1\" class=\"dataframe\">\n",
       "  <thead>\n",
       "    <tr style=\"text-align: right;\">\n",
       "      <th></th>\n",
       "      <th>Hours</th>\n",
       "    </tr>\n",
       "  </thead>\n",
       "  <tbody>\n",
       "    <tr>\n",
       "      <th>0</th>\n",
       "      <td>32.502345</td>\n",
       "    </tr>\n",
       "    <tr>\n",
       "      <th>1</th>\n",
       "      <td>53.426804</td>\n",
       "    </tr>\n",
       "    <tr>\n",
       "      <th>2</th>\n",
       "      <td>61.530358</td>\n",
       "    </tr>\n",
       "    <tr>\n",
       "      <th>3</th>\n",
       "      <td>47.475640</td>\n",
       "    </tr>\n",
       "    <tr>\n",
       "      <th>4</th>\n",
       "      <td>59.813208</td>\n",
       "    </tr>\n",
       "    <tr>\n",
       "      <th>...</th>\n",
       "      <td>...</td>\n",
       "    </tr>\n",
       "    <tr>\n",
       "      <th>95</th>\n",
       "      <td>50.030174</td>\n",
       "    </tr>\n",
       "    <tr>\n",
       "      <th>96</th>\n",
       "      <td>49.239765</td>\n",
       "    </tr>\n",
       "    <tr>\n",
       "      <th>97</th>\n",
       "      <td>50.039576</td>\n",
       "    </tr>\n",
       "    <tr>\n",
       "      <th>98</th>\n",
       "      <td>48.149859</td>\n",
       "    </tr>\n",
       "    <tr>\n",
       "      <th>99</th>\n",
       "      <td>25.128485</td>\n",
       "    </tr>\n",
       "  </tbody>\n",
       "</table>\n",
       "<p>100 rows × 1 columns</p>\n",
       "</div>"
      ],
      "text/plain": [
       "        Hours\n",
       "0   32.502345\n",
       "1   53.426804\n",
       "2   61.530358\n",
       "3   47.475640\n",
       "4   59.813208\n",
       "..        ...\n",
       "95  50.030174\n",
       "96  49.239765\n",
       "97  50.039576\n",
       "98  48.149859\n",
       "99  25.128485\n",
       "\n",
       "[100 rows x 1 columns]"
      ]
     },
     "execution_count": 38,
     "metadata": {},
     "output_type": "execute_result"
    }
   ],
   "source": [
    "df.iloc[:,:-1]   #<- It will give all the columns values except the last one column"
   ]
  },
  {
   "cell_type": "code",
   "execution_count": 37,
   "id": "9f7bf148",
   "metadata": {
    "scrolled": true
   },
   "outputs": [
    {
     "data": {
      "text/plain": [
       "array([[32.50234527],\n",
       "       [53.42680403],\n",
       "       [61.53035803],\n",
       "       [47.47563963],\n",
       "       [59.81320787],\n",
       "       [55.14218841],\n",
       "       [52.21179669],\n",
       "       [39.29956669],\n",
       "       [48.10504169],\n",
       "       [52.55001444],\n",
       "       [45.41973014],\n",
       "       [54.35163488],\n",
       "       [44.1640495 ],\n",
       "       [58.16847072],\n",
       "       [56.72720806],\n",
       "       [48.95588857],\n",
       "       [44.68719623],\n",
       "       [60.29732685],\n",
       "       [45.61864377],\n",
       "       [38.81681754],\n",
       "       [66.18981661],\n",
       "       [65.41605175],\n",
       "       [47.48120861],\n",
       "       [41.57564262],\n",
       "       [51.84518691],\n",
       "       [59.37082201],\n",
       "       [57.31000344],\n",
       "       [63.61556125],\n",
       "       [46.73761941],\n",
       "       [50.55676015],\n",
       "       [52.22399609],\n",
       "       [35.56783005],\n",
       "       [42.43647694],\n",
       "       [58.16454011],\n",
       "       [57.50444762],\n",
       "       [45.44053073],\n",
       "       [61.89622268],\n",
       "       [33.09383174],\n",
       "       [36.43600951],\n",
       "       [37.67565486],\n",
       "       [44.55560838],\n",
       "       [43.31828263],\n",
       "       [50.07314563],\n",
       "       [43.87061265],\n",
       "       [62.99748075],\n",
       "       [32.66904376],\n",
       "       [40.16689901],\n",
       "       [53.57507753],\n",
       "       [33.86421497],\n",
       "       [64.70713867],\n",
       "       [38.11982403],\n",
       "       [44.50253806],\n",
       "       [40.59953838],\n",
       "       [41.72067636],\n",
       "       [51.08863468],\n",
       "       [55.0780959 ],\n",
       "       [41.37772653],\n",
       "       [62.49469743],\n",
       "       [49.20388754],\n",
       "       [41.10268519],\n",
       "       [41.18201611],\n",
       "       [50.18638949],\n",
       "       [52.37844622],\n",
       "       [50.13548549],\n",
       "       [33.64470601],\n",
       "       [39.55790122],\n",
       "       [56.13038882],\n",
       "       [57.36205213],\n",
       "       [60.26921439],\n",
       "       [35.67809389],\n",
       "       [31.588117  ],\n",
       "       [53.66093226],\n",
       "       [46.68222865],\n",
       "       [43.10782022],\n",
       "       [70.34607562],\n",
       "       [44.49285588],\n",
       "       [57.5045333 ],\n",
       "       [36.93007661],\n",
       "       [55.80573336],\n",
       "       [38.95476907],\n",
       "       [56.9012147 ],\n",
       "       [56.86890066],\n",
       "       [34.3331247 ],\n",
       "       [59.04974121],\n",
       "       [57.78822399],\n",
       "       [54.28232871],\n",
       "       [51.0887199 ],\n",
       "       [50.28283635],\n",
       "       [44.21174175],\n",
       "       [38.00548801],\n",
       "       [32.94047994],\n",
       "       [53.69163957],\n",
       "       [68.76573427],\n",
       "       [46.2309665 ],\n",
       "       [68.31936082],\n",
       "       [50.03017434],\n",
       "       [49.23976534],\n",
       "       [50.03957594],\n",
       "       [48.14985889],\n",
       "       [25.12848465]])"
      ]
     },
     "execution_count": 37,
     "metadata": {},
     "output_type": "execute_result"
    }
   ],
   "source": [
    "df.iloc[:,:-1].values  #<- This last values word will convert the DataFrame values into array"
   ]
  },
  {
   "cell_type": "code",
   "execution_count": 50,
   "id": "fa764e16",
   "metadata": {},
   "outputs": [],
   "source": [
    "x=df.iloc[:,:-1].values\n",
    "y=df.iloc[:,-1].values"
   ]
  },
  {
   "cell_type": "code",
   "execution_count": 53,
   "id": "df70e44f",
   "metadata": {
    "scrolled": true
   },
   "outputs": [
    {
     "data": {
      "text/plain": [
       "array([[32.50234527],\n",
       "       [53.42680403],\n",
       "       [61.53035803],\n",
       "       [47.47563963],\n",
       "       [59.81320787],\n",
       "       [55.14218841],\n",
       "       [52.21179669],\n",
       "       [39.29956669],\n",
       "       [48.10504169],\n",
       "       [52.55001444],\n",
       "       [45.41973014],\n",
       "       [54.35163488],\n",
       "       [44.1640495 ],\n",
       "       [58.16847072],\n",
       "       [56.72720806],\n",
       "       [48.95588857],\n",
       "       [44.68719623],\n",
       "       [60.29732685],\n",
       "       [45.61864377],\n",
       "       [38.81681754],\n",
       "       [66.18981661],\n",
       "       [65.41605175],\n",
       "       [47.48120861],\n",
       "       [41.57564262],\n",
       "       [51.84518691],\n",
       "       [59.37082201],\n",
       "       [57.31000344],\n",
       "       [63.61556125],\n",
       "       [46.73761941],\n",
       "       [50.55676015],\n",
       "       [52.22399609],\n",
       "       [35.56783005],\n",
       "       [42.43647694],\n",
       "       [58.16454011],\n",
       "       [57.50444762],\n",
       "       [45.44053073],\n",
       "       [61.89622268],\n",
       "       [33.09383174],\n",
       "       [36.43600951],\n",
       "       [37.67565486],\n",
       "       [44.55560838],\n",
       "       [43.31828263],\n",
       "       [50.07314563],\n",
       "       [43.87061265],\n",
       "       [62.99748075],\n",
       "       [32.66904376],\n",
       "       [40.16689901],\n",
       "       [53.57507753],\n",
       "       [33.86421497],\n",
       "       [64.70713867],\n",
       "       [38.11982403],\n",
       "       [44.50253806],\n",
       "       [40.59953838],\n",
       "       [41.72067636],\n",
       "       [51.08863468],\n",
       "       [55.0780959 ],\n",
       "       [41.37772653],\n",
       "       [62.49469743],\n",
       "       [49.20388754],\n",
       "       [41.10268519],\n",
       "       [41.18201611],\n",
       "       [50.18638949],\n",
       "       [52.37844622],\n",
       "       [50.13548549],\n",
       "       [33.64470601],\n",
       "       [39.55790122],\n",
       "       [56.13038882],\n",
       "       [57.36205213],\n",
       "       [60.26921439],\n",
       "       [35.67809389],\n",
       "       [31.588117  ],\n",
       "       [53.66093226],\n",
       "       [46.68222865],\n",
       "       [43.10782022],\n",
       "       [70.34607562],\n",
       "       [44.49285588],\n",
       "       [57.5045333 ],\n",
       "       [36.93007661],\n",
       "       [55.80573336],\n",
       "       [38.95476907],\n",
       "       [56.9012147 ],\n",
       "       [56.86890066],\n",
       "       [34.3331247 ],\n",
       "       [59.04974121],\n",
       "       [57.78822399],\n",
       "       [54.28232871],\n",
       "       [51.0887199 ],\n",
       "       [50.28283635],\n",
       "       [44.21174175],\n",
       "       [38.00548801],\n",
       "       [32.94047994],\n",
       "       [53.69163957],\n",
       "       [68.76573427],\n",
       "       [46.2309665 ],\n",
       "       [68.31936082],\n",
       "       [50.03017434],\n",
       "       [49.23976534],\n",
       "       [50.03957594],\n",
       "       [48.14985889],\n",
       "       [25.12848465]])"
      ]
     },
     "execution_count": 53,
     "metadata": {},
     "output_type": "execute_result"
    }
   ],
   "source": [
    "x"
   ]
  },
  {
   "cell_type": "code",
   "execution_count": 52,
   "id": "6a081b2b",
   "metadata": {
    "scrolled": true
   },
   "outputs": [
    {
     "data": {
      "text/plain": [
       "array([31.70700585, 68.77759598, 62.5623823 , 71.54663223, 87.23092513,\n",
       "       78.21151827, 79.64197305, 59.17148932, 75.3312423 , 71.30087989,\n",
       "       55.16567715, 82.47884676, 62.00892325, 75.39287043, 81.43619216,\n",
       "       60.72360244, 82.89250373, 97.37989686, 48.84715332, 56.87721319,\n",
       "       83.87856466, 98.5912173 , 57.25181946, 51.39174408, 75.38065167,\n",
       "       74.76556403, 95.45505292, 95.22936602, 79.05240617, 83.43207142,\n",
       "       63.35879032, 41.4128853 , 76.61734128, 96.76956643, 74.08413012,\n",
       "       66.58814441, 77.76848242, 50.71958891, 62.12457082, 60.81024665,\n",
       "       52.68298337, 58.56982472, 82.90598149, 61.4247098 , 95.2441528 ,\n",
       "       45.57058882, 54.0840548 , 87.99445276, 52.72549438, 93.57611869,\n",
       "       80.16627545, 65.10171157, 65.56230126, 65.28088692, 73.43464155,\n",
       "       71.13972786, 79.10282968, 86.52053844, 84.74269781, 59.35885025,\n",
       "       61.68403752, 69.84760416, 86.09829121, 59.10883927, 69.89968164,\n",
       "       44.86249071, 85.49806778, 95.53668685, 70.25193442, 52.72173496,\n",
       "       50.39267014, 63.64239878, 72.24725107, 57.81251298, 94.25710159,\n",
       "       86.64202032, 91.486778  , 55.23166089, 79.55043668, 44.84712424,\n",
       "       80.20752314, 83.14274979, 55.72348926, 77.63418251, 99.05141484,\n",
       "       79.12064627, 69.58889785, 69.51050331, 73.68756432, 61.36690454,\n",
       "       67.17065577, 85.66820315, 94.85387123, 90.12357207, 97.91982104,\n",
       "       81.53699078, 72.11183247, 85.23200734, 66.22495789, 53.45439421])"
      ]
     },
     "execution_count": 52,
     "metadata": {},
     "output_type": "execute_result"
    }
   ],
   "source": [
    "y   #<- you have to convert this y array into shape of (-1,1) for use it in model"
   ]
  },
  {
   "cell_type": "code",
   "execution_count": 54,
   "id": "4bda0561",
   "metadata": {},
   "outputs": [],
   "source": [
    "y=y.reshape(-1,1)"
   ]
  },
  {
   "cell_type": "code",
   "execution_count": 55,
   "id": "bd131b4a",
   "metadata": {
    "scrolled": true
   },
   "outputs": [
    {
     "data": {
      "text/plain": [
       "array([[31.70700585],\n",
       "       [68.77759598],\n",
       "       [62.5623823 ],\n",
       "       [71.54663223],\n",
       "       [87.23092513],\n",
       "       [78.21151827],\n",
       "       [79.64197305],\n",
       "       [59.17148932],\n",
       "       [75.3312423 ],\n",
       "       [71.30087989],\n",
       "       [55.16567715],\n",
       "       [82.47884676],\n",
       "       [62.00892325],\n",
       "       [75.39287043],\n",
       "       [81.43619216],\n",
       "       [60.72360244],\n",
       "       [82.89250373],\n",
       "       [97.37989686],\n",
       "       [48.84715332],\n",
       "       [56.87721319],\n",
       "       [83.87856466],\n",
       "       [98.5912173 ],\n",
       "       [57.25181946],\n",
       "       [51.39174408],\n",
       "       [75.38065167],\n",
       "       [74.76556403],\n",
       "       [95.45505292],\n",
       "       [95.22936602],\n",
       "       [79.05240617],\n",
       "       [83.43207142],\n",
       "       [63.35879032],\n",
       "       [41.4128853 ],\n",
       "       [76.61734128],\n",
       "       [96.76956643],\n",
       "       [74.08413012],\n",
       "       [66.58814441],\n",
       "       [77.76848242],\n",
       "       [50.71958891],\n",
       "       [62.12457082],\n",
       "       [60.81024665],\n",
       "       [52.68298337],\n",
       "       [58.56982472],\n",
       "       [82.90598149],\n",
       "       [61.4247098 ],\n",
       "       [95.2441528 ],\n",
       "       [45.57058882],\n",
       "       [54.0840548 ],\n",
       "       [87.99445276],\n",
       "       [52.72549438],\n",
       "       [93.57611869],\n",
       "       [80.16627545],\n",
       "       [65.10171157],\n",
       "       [65.56230126],\n",
       "       [65.28088692],\n",
       "       [73.43464155],\n",
       "       [71.13972786],\n",
       "       [79.10282968],\n",
       "       [86.52053844],\n",
       "       [84.74269781],\n",
       "       [59.35885025],\n",
       "       [61.68403752],\n",
       "       [69.84760416],\n",
       "       [86.09829121],\n",
       "       [59.10883927],\n",
       "       [69.89968164],\n",
       "       [44.86249071],\n",
       "       [85.49806778],\n",
       "       [95.53668685],\n",
       "       [70.25193442],\n",
       "       [52.72173496],\n",
       "       [50.39267014],\n",
       "       [63.64239878],\n",
       "       [72.24725107],\n",
       "       [57.81251298],\n",
       "       [94.25710159],\n",
       "       [86.64202032],\n",
       "       [91.486778  ],\n",
       "       [55.23166089],\n",
       "       [79.55043668],\n",
       "       [44.84712424],\n",
       "       [80.20752314],\n",
       "       [83.14274979],\n",
       "       [55.72348926],\n",
       "       [77.63418251],\n",
       "       [99.05141484],\n",
       "       [79.12064627],\n",
       "       [69.58889785],\n",
       "       [69.51050331],\n",
       "       [73.68756432],\n",
       "       [61.36690454],\n",
       "       [67.17065577],\n",
       "       [85.66820315],\n",
       "       [94.85387123],\n",
       "       [90.12357207],\n",
       "       [97.91982104],\n",
       "       [81.53699078],\n",
       "       [72.11183247],\n",
       "       [85.23200734],\n",
       "       [66.22495789],\n",
       "       [53.45439421]])"
      ]
     },
     "execution_count": 55,
     "metadata": {},
     "output_type": "execute_result"
    }
   ],
   "source": [
    "y"
   ]
  },
  {
   "cell_type": "code",
   "execution_count": null,
   "id": "fe19062e",
   "metadata": {},
   "outputs": [],
   "source": []
  },
  {
   "cell_type": "code",
   "execution_count": 56,
   "id": "4d0058aa",
   "metadata": {},
   "outputs": [],
   "source": [
    "stanscale=StandardScaler()"
   ]
  },
  {
   "cell_type": "code",
   "execution_count": 57,
   "id": "94f51896",
   "metadata": {},
   "outputs": [],
   "source": [
    "x=stanscale.fit_transform(x)\n",
    "y=stanscale.fit_transform(y)"
   ]
  },
  {
   "cell_type": "code",
   "execution_count": 58,
   "id": "13b54859",
   "metadata": {
    "scrolled": true
   },
   "outputs": [
    {
     "data": {
      "text/plain": [
       "array([[-1.69692744e+00],\n",
       "       [ 4.60783817e-01],\n",
       "       [ 1.29641497e+00],\n",
       "       [-1.52894871e-01],\n",
       "       [ 1.11934400e+00],\n",
       "       [ 6.37672702e-01],\n",
       "       [ 3.35493359e-01],\n",
       "       [-9.96004115e-01],\n",
       "       [-8.79915004e-02],\n",
       "       [ 3.70370068e-01],\n",
       "       [-3.64898398e-01],\n",
       "       [ 5.56151537e-01],\n",
       "       [-4.94383049e-01],\n",
       "       [ 9.49740196e-01],\n",
       "       [ 8.01118494e-01],\n",
       "       [-2.52939962e-04],\n",
       "       [-4.40436632e-01],\n",
       "       [ 1.16926591e+00],\n",
       "       [-3.44386604e-01],\n",
       "       [-1.04578477e+00],\n",
       "       [ 1.77689413e+00],\n",
       "       [ 1.69710419e+00],\n",
       "       [-1.52320603e-01],\n",
       "       [-7.61297225e-01],\n",
       "       [ 2.97688891e-01],\n",
       "       [ 1.07372557e+00],\n",
       "       [ 8.61215827e-01],\n",
       "       [ 1.51143924e+00],\n",
       "       [-2.28998849e-01],\n",
       "       [ 1.64827489e-01],\n",
       "       [ 3.36751351e-01],\n",
       "       [-1.38081742e+00],\n",
       "       [-6.72528769e-01],\n",
       "       [ 9.49334875e-01],\n",
       "       [ 8.81266735e-01],\n",
       "       [-3.62753460e-01],\n",
       "       [ 1.33414261e+00],\n",
       "       [-1.63593389e+00],\n",
       "       [-1.29129154e+00],\n",
       "       [-1.16346043e+00],\n",
       "       [-4.54005852e-01],\n",
       "       [-5.81597764e-01],\n",
       "       [ 1.14957597e-01],\n",
       "       [-5.24641992e-01],\n",
       "       [ 1.44770334e+00],\n",
       "       [-1.67973764e+00],\n",
       "       [-9.06565591e-01],\n",
       "       [ 4.76073646e-01],\n",
       "       [-1.55649267e+00],\n",
       "       [ 1.62400172e+00],\n",
       "       [-1.11765811e+00],\n",
       "       [-4.59478415e-01],\n",
       "       [-8.61952211e-01],\n",
       "       [-7.46341477e-01],\n",
       "       [ 2.19673909e-01],\n",
       "       [ 6.31063541e-01],\n",
       "       [-7.81706153e-01],\n",
       "       [ 1.39585678e+00],\n",
       "       [ 2.53204894e-02],\n",
       "       [-8.10068167e-01],\n",
       "       [-8.01887634e-01],\n",
       "       [ 1.26635202e-01],\n",
       "       [ 3.52678108e-01],\n",
       "       [ 1.21386027e-01],\n",
       "       [-1.57912823e+00],\n",
       "       [-9.69364892e-01],\n",
       "       [ 7.39575034e-01],\n",
       "       [ 8.66583041e-01],\n",
       "       [ 1.16636698e+00],\n",
       "       [-1.36944711e+00],\n",
       "       [-1.79120183e+00],\n",
       "       [ 4.84926908e-01],\n",
       "       [-2.34710694e-01],\n",
       "       [-6.03300457e-01],\n",
       "       [ 2.20548379e+00],\n",
       "       [-4.60476833e-01],\n",
       "       [ 8.81275570e-01],\n",
       "       [-1.24034379e+00],\n",
       "       [ 7.06096857e-01],\n",
       "       [-1.03155933e+00],\n",
       "       [ 8.19061902e-01],\n",
       "       [ 8.15729707e-01],\n",
       "       [-1.50813912e+00],\n",
       "       [ 1.04061601e+00],\n",
       "       [ 9.10529497e-01],\n",
       "       [ 5.49004748e-01],\n",
       "       [ 2.19682697e-01],\n",
       "       [ 1.36580714e-01],\n",
       "       [-4.89465068e-01],\n",
       "       [-1.12944834e+00],\n",
       "       [-1.65174739e+00],\n",
       "       [ 4.88093418e-01],\n",
       "       [ 2.04252042e+00],\n",
       "       [-2.81244438e-01],\n",
       "       [ 1.99649080e+00],\n",
       "       [ 1.10526437e-01],\n",
       "       [ 2.90201757e-02],\n",
       "       [ 1.11495921e-01],\n",
       "       [-8.33699913e-02],\n",
       "       [-2.45731327e+00]])"
      ]
     },
     "execution_count": 58,
     "metadata": {},
     "output_type": "execute_result"
    }
   ],
   "source": [
    "x   #All the values are converted in range of -1 to 1"
   ]
  },
  {
   "cell_type": "code",
   "execution_count": 59,
   "id": "b82100b0",
   "metadata": {
    "scrolled": true
   },
   "outputs": [
    {
     "data": {
      "text/plain": [
       "array([[-2.66651176],\n",
       "       [-0.21538463],\n",
       "       [-0.62633786],\n",
       "       [-0.03229448],\n",
       "       [ 1.00475931],\n",
       "       [ 0.40839133],\n",
       "       [ 0.50297376],\n",
       "       [-0.85054551],\n",
       "       [ 0.21794595],\n",
       "       [-0.04854375],\n",
       "       [-1.11541194],\n",
       "       [ 0.69054936],\n",
       "       [-0.66293287],\n",
       "       [ 0.22202084],\n",
       "       [ 0.62160848],\n",
       "       [-0.74791896],\n",
       "       [ 0.71790058],\n",
       "       [ 1.67581471],\n",
       "       [-1.5331961 ],\n",
       "       [-1.00224427],\n",
       "       [ 0.78309945],\n",
       "       [ 1.75590787],\n",
       "       [-0.9774751 ],\n",
       "       [-1.3649464 ],\n",
       "       [ 0.22121292],\n",
       "       [ 0.180543  ],\n",
       "       [ 1.54854301],\n",
       "       [ 1.53362047],\n",
       "       [ 0.46399128],\n",
       "       [ 0.75357708],\n",
       "       [-0.57367894],\n",
       "       [-2.02475385],\n",
       "       [ 0.3029835 ],\n",
       "       [ 1.63545934],\n",
       "       [ 0.13548623],\n",
       "       [-0.36015233],\n",
       "       [ 0.37909756],\n",
       "       [-1.40938966],\n",
       "       [-0.65528619],\n",
       "       [-0.74219   ],\n",
       "       [-1.27956897],\n",
       "       [-0.89032789],\n",
       "       [ 0.71879173],\n",
       "       [-0.70156137],\n",
       "       [ 1.53459818],\n",
       "       [-1.74984428],\n",
       "       [-1.18692938],\n",
       "       [ 1.05524416],\n",
       "       [-1.27675812],\n",
       "       [ 1.42430688],\n",
       "       [ 0.53764091],\n",
       "       [-0.45843606],\n",
       "       [-0.42798163],\n",
       "       [-0.44658889],\n",
       "       [ 0.0925417 ],\n",
       "       [-0.05919921],\n",
       "       [ 0.46732531],\n",
       "       [ 0.95778816],\n",
       "       [ 0.84023639],\n",
       "       [-0.8381571 ],\n",
       "       [-0.68441449],\n",
       "       [-0.14463512],\n",
       "       [ 0.92986895],\n",
       "       [-0.85468796],\n",
       "       [-0.14119173],\n",
       "       [-1.79666411],\n",
       "       [ 0.89018186],\n",
       "       [ 1.55394069],\n",
       "       [-0.11790059],\n",
       "       [-1.2770067 ],\n",
       "       [-1.4310057 ],\n",
       "       [-0.5549266 ],\n",
       "       [ 0.01403081],\n",
       "       [-0.94040175],\n",
       "       [ 1.46933383],\n",
       "       [ 0.96582061],\n",
       "       [ 1.28615856],\n",
       "       [-1.11104906],\n",
       "       [ 0.49692133],\n",
       "       [-1.79768014],\n",
       "       [ 0.54036823],\n",
       "       [ 0.73444698],\n",
       "       [-1.07852911],\n",
       "       [ 0.37021758],\n",
       "       [ 1.78633637],\n",
       "       [ 0.46850336],\n",
       "       [-0.16174092],\n",
       "       [-0.16692441],\n",
       "       [ 0.10926509],\n",
       "       [-0.70538349],\n",
       "       [-0.32163637],\n",
       "       [ 0.9014313 ],\n",
       "       [ 1.50879256],\n",
       "       [ 1.19602266],\n",
       "       [ 1.71151479],\n",
       "       [ 0.62827334],\n",
       "       [ 0.00507686],\n",
       "       [ 0.8725898 ],\n",
       "       [-0.38416642],\n",
       "       [-1.22856288]])"
      ]
     },
     "execution_count": 59,
     "metadata": {},
     "output_type": "execute_result"
    }
   ],
   "source": [
    "y"
   ]
  },
  {
   "cell_type": "code",
   "execution_count": null,
   "id": "e42c41ca",
   "metadata": {},
   "outputs": [],
   "source": []
  },
  {
   "cell_type": "markdown",
   "id": "add61412",
   "metadata": {},
   "source": [
    "# Splitting the data"
   ]
  },
  {
   "cell_type": "code",
   "execution_count": 60,
   "id": "68569f87",
   "metadata": {},
   "outputs": [],
   "source": [
    "x_train,x_test,y_train,y_test = train_test_split(x,y,test_size=0.2,random_state=10)"
   ]
  },
  {
   "cell_type": "code",
   "execution_count": 61,
   "id": "e824beef",
   "metadata": {},
   "outputs": [
    {
     "data": {
      "text/plain": [
       "(80, 1)"
      ]
     },
     "execution_count": 61,
     "metadata": {},
     "output_type": "execute_result"
    }
   ],
   "source": [
    "x_train.shape"
   ]
  },
  {
   "cell_type": "code",
   "execution_count": 62,
   "id": "d46ac3f9",
   "metadata": {},
   "outputs": [
    {
     "data": {
      "text/plain": [
       "80"
      ]
     },
     "execution_count": 62,
     "metadata": {},
     "output_type": "execute_result"
    }
   ],
   "source": [
    "len(x_train)"
   ]
  },
  {
   "cell_type": "code",
   "execution_count": 63,
   "id": "338e8f19",
   "metadata": {},
   "outputs": [
    {
     "data": {
      "text/plain": [
       "(80, 1)"
      ]
     },
     "execution_count": 63,
     "metadata": {},
     "output_type": "execute_result"
    }
   ],
   "source": [
    "y_train.shape"
   ]
  },
  {
   "cell_type": "code",
   "execution_count": null,
   "id": "65846f7d",
   "metadata": {},
   "outputs": [],
   "source": []
  },
  {
   "cell_type": "markdown",
   "id": "3774b9ed",
   "metadata": {},
   "source": [
    "# Define the model"
   ]
  },
  {
   "cell_type": "code",
   "execution_count": 64,
   "id": "1e514a55",
   "metadata": {},
   "outputs": [],
   "source": [
    "from sklearn.svm import SVR"
   ]
  },
  {
   "cell_type": "code",
   "execution_count": 66,
   "id": "17c01c17",
   "metadata": {},
   "outputs": [],
   "source": [
    "model=SVR(kernel=\"rbf\")  #<- There are many different type of kernels, you can use it from the documentation"
   ]
  },
  {
   "cell_type": "markdown",
   "id": "e44d76a1",
   "metadata": {},
   "source": [
    "# Fit the data"
   ]
  },
  {
   "cell_type": "code",
   "execution_count": 67,
   "id": "d23f2c8f",
   "metadata": {
    "scrolled": true
   },
   "outputs": [
    {
     "name": "stderr",
     "output_type": "stream",
     "text": [
      "c:\\users\\hello\\appdata\\local\\programs\\python\\python39\\lib\\site-packages\\sklearn\\utils\\validation.py:63: DataConversionWarning: A column-vector y was passed when a 1d array was expected. Please change the shape of y to (n_samples, ), for example using ravel().\n",
      "  return f(*args, **kwargs)\n"
     ]
    },
    {
     "data": {
      "text/plain": [
       "SVR()"
      ]
     },
     "execution_count": 67,
     "metadata": {},
     "output_type": "execute_result"
    }
   ],
   "source": [
    "model.fit(x_train,y_train)"
   ]
  },
  {
   "cell_type": "code",
   "execution_count": 69,
   "id": "12b7a5ec",
   "metadata": {},
   "outputs": [],
   "source": [
    "y_pred=model.predict(x_test)"
   ]
  },
  {
   "cell_type": "code",
   "execution_count": 71,
   "id": "27db9a58",
   "metadata": {},
   "outputs": [
    {
     "data": {
      "text/plain": [
       "array([-0.76947139,  0.62495329, -0.36605346, -1.26283815,  0.57381597,\n",
       "       -0.1185472 , -0.75664008, -0.40417142, -0.99623181,  0.95262628,\n",
       "        1.07387222,  0.35030893, -0.56328734, -0.52093818,  0.07543078,\n",
       "        1.22551728,  1.33758452,  0.67596748, -0.56967027, -0.64786557])"
      ]
     },
     "execution_count": 71,
     "metadata": {},
     "output_type": "execute_result"
    }
   ],
   "source": [
    "y_pred   #<- Here, value in standardize form, so you can either compare in this form or you can reverse it to the original form"
   ]
  },
  {
   "cell_type": "code",
   "execution_count": 70,
   "id": "71f74999",
   "metadata": {},
   "outputs": [
    {
     "data": {
      "text/plain": [
       "array([[-1.00224427],\n",
       "       [ 0.62160848],\n",
       "       [-0.70156137],\n",
       "       [-1.40938966],\n",
       "       [ 0.89018186],\n",
       "       [-0.03229448],\n",
       "       [-1.79768014],\n",
       "       [-0.89032789],\n",
       "       [-0.65528619],\n",
       "       [-0.11790059],\n",
       "       [-0.62633786],\n",
       "       [-0.21538463],\n",
       "       [-0.68441449],\n",
       "       [-0.44658889],\n",
       "       [ 0.62827334],\n",
       "       [ 1.46933383],\n",
       "       [ 1.50879256],\n",
       "       [ 1.54854301],\n",
       "       [-0.8381571 ],\n",
       "       [-1.18692938]])"
      ]
     },
     "execution_count": 70,
     "metadata": {},
     "output_type": "execute_result"
    }
   ],
   "source": [
    "y_test"
   ]
  },
  {
   "cell_type": "code",
   "execution_count": 72,
   "id": "b74554f3",
   "metadata": {},
   "outputs": [],
   "source": [
    "y_pred=stanscale.inverse_transform(y_pred)"
   ]
  },
  {
   "cell_type": "code",
   "execution_count": 73,
   "id": "08ab4745",
   "metadata": {},
   "outputs": [
    {
     "data": {
      "text/plain": [
       "array([60.39764577, 81.48677868, 66.49889641, 52.93601862, 80.71338315,\n",
       "       70.24215505, 60.59170512, 65.92240434, 56.96814488, 86.44247075,\n",
       "       88.27618157, 77.33308614, 63.51595177, 64.15643611, 73.17585776,\n",
       "       90.56964555, 92.26453877, 82.25831189, 63.41941707, 62.23679956])"
      ]
     },
     "execution_count": 73,
     "metadata": {},
     "output_type": "execute_result"
    }
   ],
   "source": [
    "y_pred"
   ]
  },
  {
   "cell_type": "code",
   "execution_count": 74,
   "id": "9db79259",
   "metadata": {},
   "outputs": [],
   "source": [
    "y_test=stanscale.inverse_transform(y_test)"
   ]
  },
  {
   "cell_type": "code",
   "execution_count": 75,
   "id": "06c83f37",
   "metadata": {},
   "outputs": [
    {
     "data": {
      "text/plain": [
       "array([[56.87721319],\n",
       "       [81.43619216],\n",
       "       [61.4247098 ],\n",
       "       [50.71958891],\n",
       "       [85.49806778],\n",
       "       [71.54663223],\n",
       "       [44.84712424],\n",
       "       [58.56982472],\n",
       "       [62.12457082],\n",
       "       [70.25193442],\n",
       "       [62.5623823 ],\n",
       "       [68.77759598],\n",
       "       [61.68403752],\n",
       "       [65.28088692],\n",
       "       [81.53699078],\n",
       "       [94.25710159],\n",
       "       [94.85387123],\n",
       "       [95.45505292],\n",
       "       [59.35885025],\n",
       "       [54.0840548 ]])"
      ]
     },
     "execution_count": 75,
     "metadata": {},
     "output_type": "execute_result"
    }
   ],
   "source": [
    "y_test"
   ]
  },
  {
   "cell_type": "code",
   "execution_count": null,
   "id": "b151a70b",
   "metadata": {},
   "outputs": [],
   "source": []
  },
  {
   "cell_type": "code",
   "execution_count": 77,
   "id": "5c4b1143",
   "metadata": {},
   "outputs": [
    {
     "data": {
      "text/plain": [
       "Text(0.5, 1.0, 'Actual Marks V/s Predicted Marks')"
      ]
     },
     "execution_count": 77,
     "metadata": {},
     "output_type": "execute_result"
    },
    {
     "data": {
      "image/png": "[encoded data removed]",
      "text/plain": [
       "<Figure size 432x288 with 1 Axes>"
      ]
     },
     "metadata": {
      "needs_background": "light"
     },
     "output_type": "display_data"
    }
   ],
   "source": [
    "plt.scatter(y_test,y_pred)\n",
    "plt.xlabel(\"Actual Marks\")\n",
    "plt.xlabel(\"Predicted Marks\")\n",
    "plt.title(\"Actual Marks V/s Predicted Marks\")"
   ]
  },
  {
   "cell_type": "code",
   "execution_count": null,
   "id": "8e42e354",
   "metadata": {},
   "outputs": [],
   "source": []
  },
  {
   "cell_type": "markdown",
   "id": "7c2a98f6",
   "metadata": {},
   "source": [
    "# Accuracy of model"
   ]
  },
  {
   "cell_type": "code",
   "execution_count": 80,
   "id": "cae8b7a1",
   "metadata": {},
   "outputs": [
    {
     "data": {
      "text/plain": [
       "array([71.50453478])"
      ]
     },
     "execution_count": 80,
     "metadata": {},
     "output_type": "execute_result"
    }
   ],
   "source": [
    "stanscale.inverse_transform(model.predict([[5]]))"
   ]
  },
  {
   "cell_type": "code",
   "execution_count": 81,
   "id": "3143abf4",
   "metadata": {},
   "outputs": [],
   "source": [
    "from sklearn.metrics import r2_score,mean_absolute_error,mean_squared_error"
   ]
  },
  {
   "cell_type": "code",
   "execution_count": 82,
   "id": "ec9d4826",
   "metadata": {},
   "outputs": [
    {
     "data": {
      "text/plain": [
       "-22.099949752331796"
      ]
     },
     "execution_count": 82,
     "metadata": {},
     "output_type": "execute_result"
    }
   ],
   "source": [
    "model.score(x_test,y_test)"
   ]
  },
  {
   "cell_type": "code",
   "execution_count": 83,
   "id": "de67d461",
   "metadata": {},
   "outputs": [
    {
     "data": {
      "text/plain": [
       "0.5943071038285547"
      ]
     },
     "execution_count": 83,
     "metadata": {},
     "output_type": "execute_result"
    }
   ],
   "source": [
    "r2_score(y_test,y_pred)"
   ]
  },
  {
   "cell_type": "markdown",
   "id": "8017156a",
   "metadata": {},
   "source": [
    "# Prediction of the model"
   ]
  },
  {
   "cell_type": "code",
   "execution_count": 84,
   "id": "6150d20e",
   "metadata": {},
   "outputs": [
    {
     "data": {
      "text/plain": [
       "87.23306900235274"
      ]
     },
     "execution_count": 84,
     "metadata": {},
     "output_type": "execute_result"
    }
   ],
   "source": [
    "mean_squared_error(y_test,y_pred)"
   ]
  },
  {
   "cell_type": "code",
   "execution_count": 85,
   "id": "4b4c2dff",
   "metadata": {},
   "outputs": [
    {
     "data": {
      "text/plain": [
       "6.933427431006029"
      ]
     },
     "execution_count": 85,
     "metadata": {},
     "output_type": "execute_result"
    }
   ],
   "source": [
    "mean_absolute_error(y_test,y_pred)"
   ]
  },
  {
   "cell_type": "code",
   "execution_count": null,
   "id": "1913d154",
   "metadata": {},
   "outputs": [],
   "source": []
  },
  {
   "cell_type": "code",
   "execution_count": null,
   "id": "f0cfc8b3",
   "metadata": {},
   "outputs": [],
   "source": []
  },
  {
   "cell_type": "markdown",
   "id": "15b235f5",
   "metadata": {},
   "source": [
    "# Without feature scalling"
   ]
  },
  {
   "cell_type": "code",
   "execution_count": 86,
   "id": "16a8a181",
   "metadata": {},
   "outputs": [],
   "source": [
    "x=df.iloc[:,:-1].values\n",
    "y=df.iloc[:,-1].values"
   ]
  },
  {
   "cell_type": "code",
   "execution_count": 87,
   "id": "117e23fc",
   "metadata": {
    "scrolled": true
   },
   "outputs": [
    {
     "data": {
      "text/plain": [
       "array([[32.50234527],\n",
       "       [53.42680403],\n",
       "       [61.53035803],\n",
       "       [47.47563963],\n",
       "       [59.81320787],\n",
       "       [55.14218841],\n",
       "       [52.21179669],\n",
       "       [39.29956669],\n",
       "       [48.10504169],\n",
       "       [52.55001444],\n",
       "       [45.41973014],\n",
       "       [54.35163488],\n",
       "       [44.1640495 ],\n",
       "       [58.16847072],\n",
       "       [56.72720806],\n",
       "       [48.95588857],\n",
       "       [44.68719623],\n",
       "       [60.29732685],\n",
       "       [45.61864377],\n",
       "       [38.81681754],\n",
       "       [66.18981661],\n",
       "       [65.41605175],\n",
       "       [47.48120861],\n",
       "       [41.57564262],\n",
       "       [51.84518691],\n",
       "       [59.37082201],\n",
       "       [57.31000344],\n",
       "       [63.61556125],\n",
       "       [46.73761941],\n",
       "       [50.55676015],\n",
       "       [52.22399609],\n",
       "       [35.56783005],\n",
       "       [42.43647694],\n",
       "       [58.16454011],\n",
       "       [57.50444762],\n",
       "       [45.44053073],\n",
       "       [61.89622268],\n",
       "       [33.09383174],\n",
       "       [36.43600951],\n",
       "       [37.67565486],\n",
       "       [44.55560838],\n",
       "       [43.31828263],\n",
       "       [50.07314563],\n",
       "       [43.87061265],\n",
       "       [62.99748075],\n",
       "       [32.66904376],\n",
       "       [40.16689901],\n",
       "       [53.57507753],\n",
       "       [33.86421497],\n",
       "       [64.70713867],\n",
       "       [38.11982403],\n",
       "       [44.50253806],\n",
       "       [40.59953838],\n",
       "       [41.72067636],\n",
       "       [51.08863468],\n",
       "       [55.0780959 ],\n",
       "       [41.37772653],\n",
       "       [62.49469743],\n",
       "       [49.20388754],\n",
       "       [41.10268519],\n",
       "       [41.18201611],\n",
       "       [50.18638949],\n",
       "       [52.37844622],\n",
       "       [50.13548549],\n",
       "       [33.64470601],\n",
       "       [39.55790122],\n",
       "       [56.13038882],\n",
       "       [57.36205213],\n",
       "       [60.26921439],\n",
       "       [35.67809389],\n",
       "       [31.588117  ],\n",
       "       [53.66093226],\n",
       "       [46.68222865],\n",
       "       [43.10782022],\n",
       "       [70.34607562],\n",
       "       [44.49285588],\n",
       "       [57.5045333 ],\n",
       "       [36.93007661],\n",
       "       [55.80573336],\n",
       "       [38.95476907],\n",
       "       [56.9012147 ],\n",
       "       [56.86890066],\n",
       "       [34.3331247 ],\n",
       "       [59.04974121],\n",
       "       [57.78822399],\n",
       "       [54.28232871],\n",
       "       [51.0887199 ],\n",
       "       [50.28283635],\n",
       "       [44.21174175],\n",
       "       [38.00548801],\n",
       "       [32.94047994],\n",
       "       [53.69163957],\n",
       "       [68.76573427],\n",
       "       [46.2309665 ],\n",
       "       [68.31936082],\n",
       "       [50.03017434],\n",
       "       [49.23976534],\n",
       "       [50.03957594],\n",
       "       [48.14985889],\n",
       "       [25.12848465]])"
      ]
     },
     "execution_count": 87,
     "metadata": {},
     "output_type": "execute_result"
    }
   ],
   "source": [
    "x"
   ]
  },
  {
   "cell_type": "code",
   "execution_count": 91,
   "id": "a9652b5c",
   "metadata": {
    "scrolled": true
   },
   "outputs": [],
   "source": [
    "y=y.reshape(-1,1)"
   ]
  },
  {
   "cell_type": "code",
   "execution_count": 92,
   "id": "db5cbdfb",
   "metadata": {
    "scrolled": true
   },
   "outputs": [
    {
     "data": {
      "text/plain": [
       "array([[31.70700585],\n",
       "       [68.77759598],\n",
       "       [62.5623823 ],\n",
       "       [71.54663223],\n",
       "       [87.23092513],\n",
       "       [78.21151827],\n",
       "       [79.64197305],\n",
       "       [59.17148932],\n",
       "       [75.3312423 ],\n",
       "       [71.30087989],\n",
       "       [55.16567715],\n",
       "       [82.47884676],\n",
       "       [62.00892325],\n",
       "       [75.39287043],\n",
       "       [81.43619216],\n",
       "       [60.72360244],\n",
       "       [82.89250373],\n",
       "       [97.37989686],\n",
       "       [48.84715332],\n",
       "       [56.87721319],\n",
       "       [83.87856466],\n",
       "       [98.5912173 ],\n",
       "       [57.25181946],\n",
       "       [51.39174408],\n",
       "       [75.38065167],\n",
       "       [74.76556403],\n",
       "       [95.45505292],\n",
       "       [95.22936602],\n",
       "       [79.05240617],\n",
       "       [83.43207142],\n",
       "       [63.35879032],\n",
       "       [41.4128853 ],\n",
       "       [76.61734128],\n",
       "       [96.76956643],\n",
       "       [74.08413012],\n",
       "       [66.58814441],\n",
       "       [77.76848242],\n",
       "       [50.71958891],\n",
       "       [62.12457082],\n",
       "       [60.81024665],\n",
       "       [52.68298337],\n",
       "       [58.56982472],\n",
       "       [82.90598149],\n",
       "       [61.4247098 ],\n",
       "       [95.2441528 ],\n",
       "       [45.57058882],\n",
       "       [54.0840548 ],\n",
       "       [87.99445276],\n",
       "       [52.72549438],\n",
       "       [93.57611869],\n",
       "       [80.16627545],\n",
       "       [65.10171157],\n",
       "       [65.56230126],\n",
       "       [65.28088692],\n",
       "       [73.43464155],\n",
       "       [71.13972786],\n",
       "       [79.10282968],\n",
       "       [86.52053844],\n",
       "       [84.74269781],\n",
       "       [59.35885025],\n",
       "       [61.68403752],\n",
       "       [69.84760416],\n",
       "       [86.09829121],\n",
       "       [59.10883927],\n",
       "       [69.89968164],\n",
       "       [44.86249071],\n",
       "       [85.49806778],\n",
       "       [95.53668685],\n",
       "       [70.25193442],\n",
       "       [52.72173496],\n",
       "       [50.39267014],\n",
       "       [63.64239878],\n",
       "       [72.24725107],\n",
       "       [57.81251298],\n",
       "       [94.25710159],\n",
       "       [86.64202032],\n",
       "       [91.486778  ],\n",
       "       [55.23166089],\n",
       "       [79.55043668],\n",
       "       [44.84712424],\n",
       "       [80.20752314],\n",
       "       [83.14274979],\n",
       "       [55.72348926],\n",
       "       [77.63418251],\n",
       "       [99.05141484],\n",
       "       [79.12064627],\n",
       "       [69.58889785],\n",
       "       [69.51050331],\n",
       "       [73.68756432],\n",
       "       [61.36690454],\n",
       "       [67.17065577],\n",
       "       [85.66820315],\n",
       "       [94.85387123],\n",
       "       [90.12357207],\n",
       "       [97.91982104],\n",
       "       [81.53699078],\n",
       "       [72.11183247],\n",
       "       [85.23200734],\n",
       "       [66.22495789],\n",
       "       [53.45439421]])"
      ]
     },
     "execution_count": 92,
     "metadata": {},
     "output_type": "execute_result"
    }
   ],
   "source": [
    "y"
   ]
  },
  {
   "cell_type": "code",
   "execution_count": null,
   "id": "8c937c9e",
   "metadata": {},
   "outputs": [],
   "source": []
  },
  {
   "cell_type": "markdown",
   "id": "f10e4b3e",
   "metadata": {},
   "source": [
    "# Splitting the data"
   ]
  },
  {
   "cell_type": "code",
   "execution_count": 96,
   "id": "f94c2c57",
   "metadata": {},
   "outputs": [],
   "source": [
    "x_train,x_test,y_train,y_test = train_test_split(x,y,test_size=0.2,random_state=10)"
   ]
  },
  {
   "cell_type": "code",
   "execution_count": 97,
   "id": "82ef5c72",
   "metadata": {},
   "outputs": [
    {
     "data": {
      "text/plain": [
       "(80, 1)"
      ]
     },
     "execution_count": 97,
     "metadata": {},
     "output_type": "execute_result"
    }
   ],
   "source": [
    "x_train.shape"
   ]
  },
  {
   "cell_type": "code",
   "execution_count": 62,
   "id": "bcc55d05",
   "metadata": {},
   "outputs": [
    {
     "data": {
      "text/plain": [
       "80"
      ]
     },
     "execution_count": 62,
     "metadata": {},
     "output_type": "execute_result"
    }
   ],
   "source": [
    "len(x_train)"
   ]
  },
  {
   "cell_type": "code",
   "execution_count": 63,
   "id": "3b6e0d92",
   "metadata": {},
   "outputs": [
    {
     "data": {
      "text/plain": [
       "(80, 1)"
      ]
     },
     "execution_count": 63,
     "metadata": {},
     "output_type": "execute_result"
    }
   ],
   "source": [
    "y_train.shape"
   ]
  },
  {
   "cell_type": "code",
   "execution_count": null,
   "id": "9ad81639",
   "metadata": {},
   "outputs": [],
   "source": []
  },
  {
   "cell_type": "markdown",
   "id": "56b5c8cf",
   "metadata": {},
   "source": [
    "# Define the model"
   ]
  },
  {
   "cell_type": "code",
   "execution_count": 93,
   "id": "1840e5e9",
   "metadata": {},
   "outputs": [],
   "source": [
    "from sklearn.svm import SVR"
   ]
  },
  {
   "cell_type": "code",
   "execution_count": 94,
   "id": "01b65ae7",
   "metadata": {},
   "outputs": [],
   "source": [
    "model=SVR(kernel=\"rbf\")  #<- There are many different type of kernels, you can use it from the documentation"
   ]
  },
  {
   "cell_type": "markdown",
   "id": "42ae9998",
   "metadata": {},
   "source": [
    "# Fit the data"
   ]
  },
  {
   "cell_type": "code",
   "execution_count": 98,
   "id": "dcfaf7be",
   "metadata": {
    "scrolled": true
   },
   "outputs": [
    {
     "name": "stderr",
     "output_type": "stream",
     "text": [
      "c:\\users\\hello\\appdata\\local\\programs\\python\\python39\\lib\\site-packages\\sklearn\\utils\\validation.py:63: DataConversionWarning: A column-vector y was passed when a 1d array was expected. Please change the shape of y to (n_samples, ), for example using ravel().\n",
      "  return f(*args, **kwargs)\n"
     ]
    },
    {
     "data": {
      "text/plain": [
       "SVR()"
      ]
     },
     "execution_count": 98,
     "metadata": {},
     "output_type": "execute_result"
    }
   ],
   "source": [
    "model.fit(x_train,y_train)"
   ]
  },
  {
   "cell_type": "code",
   "execution_count": 99,
   "id": "36e93c0f",
   "metadata": {},
   "outputs": [],
   "source": [
    "y_pred=model.predict(x_test)"
   ]
  },
  {
   "cell_type": "code",
   "execution_count": 100,
   "id": "f12e55cd",
   "metadata": {},
   "outputs": [
    {
     "data": {
      "text/plain": [
       "array([64.65277623, 79.56904405, 67.6224643 , 64.55303703, 79.12461867,\n",
       "       70.72515467, 64.70399066, 67.20782004, 64.11667196, 81.30677898,\n",
       "       81.50735697, 76.7197672 , 65.78988806, 66.11698842, 73.25546108,\n",
       "       77.76023386, 78.84472977, 79.96501514, 65.74362897, 65.23787887])"
      ]
     },
     "execution_count": 100,
     "metadata": {},
     "output_type": "execute_result"
    }
   ],
   "source": [
    "y_pred   #<- Here, value in standardize form, so you can either compare in this form or you can reverse it to the original form"
   ]
  },
  {
   "cell_type": "code",
   "execution_count": 101,
   "id": "f42318eb",
   "metadata": {
    "scrolled": true
   },
   "outputs": [
    {
     "data": {
      "text/plain": [
       "array([[56.87721319],\n",
       "       [81.43619216],\n",
       "       [61.4247098 ],\n",
       "       [50.71958891],\n",
       "       [85.49806778],\n",
       "       [71.54663223],\n",
       "       [44.84712424],\n",
       "       [58.56982472],\n",
       "       [62.12457082],\n",
       "       [70.25193442],\n",
       "       [62.5623823 ],\n",
       "       [68.77759598],\n",
       "       [61.68403752],\n",
       "       [65.28088692],\n",
       "       [81.53699078],\n",
       "       [94.25710159],\n",
       "       [94.85387123],\n",
       "       [95.45505292],\n",
       "       [59.35885025],\n",
       "       [54.0840548 ]])"
      ]
     },
     "execution_count": 101,
     "metadata": {},
     "output_type": "execute_result"
    }
   ],
   "source": [
    "y_test"
   ]
  },
  {
   "cell_type": "code",
   "execution_count": null,
   "id": "422612db",
   "metadata": {},
   "outputs": [],
   "source": []
  },
  {
   "cell_type": "code",
   "execution_count": 102,
   "id": "5ff134d3",
   "metadata": {},
   "outputs": [
    {
     "data": {
      "text/plain": [
       "Text(0.5, 1.0, 'Actual Marks V/s Predicted Marks')"
      ]
     },
     "execution_count": 102,
     "metadata": {},
     "output_type": "execute_result"
    },
    {
     "data": {
      "image/png": "[encoded data removed]",
      "text/plain": [
       "<Figure size 432x288 with 1 Axes>"
      ]
     },
     "metadata": {
      "needs_background": "light"
     },
     "output_type": "display_data"
    }
   ],
   "source": [
    "plt.scatter(y_test,y_pred)\n",
    "plt.xlabel(\"Actual Marks\")\n",
    "plt.xlabel(\"Predicted Marks\")\n",
    "plt.title(\"Actual Marks V/s Predicted Marks\")"
   ]
  },
  {
   "cell_type": "code",
   "execution_count": null,
   "id": "64bf614f",
   "metadata": {},
   "outputs": [],
   "source": []
  },
  {
   "cell_type": "code",
   "execution_count": null,
   "id": "91570a87",
   "metadata": {},
   "outputs": [],
   "source": []
  },
  {
   "cell_type": "markdown",
   "id": "495c3220",
   "metadata": {},
   "source": [
    "# Prediction of the model"
   ]
  },
  {
   "cell_type": "code",
   "execution_count": 103,
   "id": "ba0cc257",
   "metadata": {},
   "outputs": [
    {
     "data": {
      "text/plain": [
       "0.44847831055675946"
      ]
     },
     "execution_count": 103,
     "metadata": {},
     "output_type": "execute_result"
    }
   ],
   "source": [
    "model.score(x_test,y_test)"
   ]
  },
  {
   "cell_type": "code",
   "execution_count": 104,
   "id": "398150d0",
   "metadata": {},
   "outputs": [
    {
     "data": {
      "text/plain": [
       "0.44847831055675946"
      ]
     },
     "execution_count": 104,
     "metadata": {},
     "output_type": "execute_result"
    }
   ],
   "source": [
    "r2_score(y_test,y_pred)"
   ]
  },
  {
   "cell_type": "code",
   "execution_count": 105,
   "id": "cc4c6eaf",
   "metadata": {},
   "outputs": [
    {
     "data": {
      "text/plain": [
       "118.58952928563171"
      ]
     },
     "execution_count": 105,
     "metadata": {},
     "output_type": "execute_result"
    }
   ],
   "source": [
    "mean_squared_error(y_test,y_pred)"
   ]
  },
  {
   "cell_type": "code",
   "execution_count": 106,
   "id": "5b463a4c",
   "metadata": {},
   "outputs": [
    {
     "data": {
      "text/plain": [
       "9.202796263984874"
      ]
     },
     "execution_count": 106,
     "metadata": {},
     "output_type": "execute_result"
    }
   ],
   "source": [
    "mean_absolute_error(y_test,y_pred)"
   ]
  },
  {
   "cell_type": "code",
   "execution_count": null,
   "id": "7d65b1fd",
   "metadata": {},
   "outputs": [],
   "source": []
  },
  {
   "cell_type": "code",
   "execution_count": null,
   "id": "08c1f485",
   "metadata": {},
   "outputs": [],
   "source": []
  },
  {
   "cell_type": "code",
   "execution_count": null,
   "id": "f5813d44",
   "metadata": {},
   "outputs": [],
   "source": []
  },
  {
   "cell_type": "code",
   "execution_count": null,
   "id": "86691181",
   "metadata": {},
   "outputs": [],
   "source": []
  },
  {
   "cell_type": "code",
   "execution_count": null,
   "id": "3048fee5",
   "metadata": {},
   "outputs": [],
   "source": []
  },
  {
   "cell_type": "code",
   "execution_count": null,
   "id": "3e97142f",
   "metadata": {},
   "outputs": [],
   "source": []
  },
  {
   "cell_type": "code",
   "execution_count": null,
   "id": "48ef8034",
   "metadata": {},
   "outputs": [],
   "source": []
  },
  {
   "cell_type": "code",
   "execution_count": null,
   "id": "3a87489b",
   "metadata": {},
   "outputs": [],
   "source": []
  },
  {
   "cell_type": "code",
   "execution_count": null,
   "id": "4dd9f5c2",
   "metadata": {},
   "outputs": [],
   "source": []
  },
  {
   "cell_type": "code",
   "execution_count": null,
   "id": "7ef59fe2",
   "metadata": {},
   "outputs": [],
   "source": []
  }
 ],
 "metadata": {
  "kernelspec": {
   "display_name": "Python 3",
   "language": "python",
   "name": "python3"
  },
  "language_info": {
   "codemirror_mode": {
    "name": "ipython",
    "version": 3
   },
   "file_extension": ".py",
   "mimetype": "text/x-python",
   "name": "python",
   "nbconvert_exporter": "python",
   "pygments_lexer": "ipython3",
   "version": "3.9.5"
  }
 },
 "nbformat": 4,
 "nbformat_minor": 5
}
