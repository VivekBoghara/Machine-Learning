{
 "cells": [
  {
   "cell_type": "markdown",
   "id": "5dfae04d",
   "metadata": {},
   "source": [
    "# Importing Libraries"
   ]
  },
  {
   "cell_type": "code",
   "execution_count": 42,
   "id": "986f3e7c",
   "metadata": {},
   "outputs": [],
   "source": [
    "import pandas as pd\n",
    "import numpy as np\n",
    "import matplotlib.pyplot as plt\n",
    "import seaborn as sns\n",
    "import re\n",
    "from sklearn.neighbors import KNeighborsClassifier\n",
    "from sklearn.metrics import confusion_matrix\n",
    "from sklearn.preprocessing import StandardScaler\n",
    "from sklearn.linear_model import LogisticRegression\n",
    "from sklearn.model_selection import StratifiedKFold"
   ]
  },
  {
   "cell_type": "markdown",
   "id": "e43fd3da",
   "metadata": {},
   "source": [
    "# Import the Dataset\n",
    "\n",
    "Link:\"https://raw.githubusercontent.com/omairaasim/machine_learning/master/project_11_k_nearest_neighbor/iphone_purchase_records.csv\""
   ]
  },
  {
   "cell_type": "code",
   "execution_count": 4,
   "id": "c1b8d8d6",
   "metadata": {},
   "outputs": [],
   "source": [
    "df = pd.read_csv(\"https://raw.githubusercontent.com/omairaasim/machine_learning/master/project_11_k_nearest_neighbor/iphone_purchase_records.csv\")"
   ]
  },
  {
   "cell_type": "code",
   "execution_count": 5,
   "id": "d66102cc",
   "metadata": {},
   "outputs": [
    {
     "data": {
      "text/html": [
       "<div>\n",
       "<style scoped>\n",
       "    .dataframe tbody tr th:only-of-type {\n",
       "        vertical-align: middle;\n",
       "    }\n",
       "\n",
       "    .dataframe tbody tr th {\n",
       "        vertical-align: top;\n",
       "    }\n",
       "\n",
       "    .dataframe thead th {\n",
       "        text-align: right;\n",
       "    }\n",
       "</style>\n",
       "<table border=\"1\" class=\"dataframe\">\n",
       "  <thead>\n",
       "    <tr style=\"text-align: right;\">\n",
       "      <th></th>\n",
       "      <th>Gender</th>\n",
       "      <th>Age</th>\n",
       "      <th>Salary</th>\n",
       "      <th>Purchase Iphone</th>\n",
       "    </tr>\n",
       "  </thead>\n",
       "  <tbody>\n",
       "    <tr>\n",
       "      <th>0</th>\n",
       "      <td>Male</td>\n",
       "      <td>19</td>\n",
       "      <td>19000</td>\n",
       "      <td>0</td>\n",
       "    </tr>\n",
       "    <tr>\n",
       "      <th>1</th>\n",
       "      <td>Male</td>\n",
       "      <td>35</td>\n",
       "      <td>20000</td>\n",
       "      <td>0</td>\n",
       "    </tr>\n",
       "    <tr>\n",
       "      <th>2</th>\n",
       "      <td>Female</td>\n",
       "      <td>26</td>\n",
       "      <td>43000</td>\n",
       "      <td>0</td>\n",
       "    </tr>\n",
       "    <tr>\n",
       "      <th>3</th>\n",
       "      <td>Female</td>\n",
       "      <td>27</td>\n",
       "      <td>57000</td>\n",
       "      <td>0</td>\n",
       "    </tr>\n",
       "    <tr>\n",
       "      <th>4</th>\n",
       "      <td>Male</td>\n",
       "      <td>19</td>\n",
       "      <td>76000</td>\n",
       "      <td>0</td>\n",
       "    </tr>\n",
       "  </tbody>\n",
       "</table>\n",
       "</div>"
      ],
      "text/plain": [
       "   Gender  Age  Salary  Purchase Iphone\n",
       "0    Male   19   19000                0\n",
       "1    Male   35   20000                0\n",
       "2  Female   26   43000                0\n",
       "3  Female   27   57000                0\n",
       "4    Male   19   76000                0"
      ]
     },
     "execution_count": 5,
     "metadata": {},
     "output_type": "execute_result"
    }
   ],
   "source": [
    "df.head()"
   ]
  },
  {
   "cell_type": "code",
   "execution_count": 7,
   "id": "9e3360d5",
   "metadata": {},
   "outputs": [
    {
     "data": {
      "text/plain": [
       "(400, 4)"
      ]
     },
     "execution_count": 7,
     "metadata": {},
     "output_type": "execute_result"
    }
   ],
   "source": [
    "df.shape"
   ]
  },
  {
   "cell_type": "code",
   "execution_count": 8,
   "id": "48d44f66",
   "metadata": {},
   "outputs": [
    {
     "name": "stdout",
     "output_type": "stream",
     "text": [
      "<class 'pandas.core.frame.DataFrame'>\n",
      "RangeIndex: 400 entries, 0 to 399\n",
      "Data columns (total 4 columns):\n",
      " #   Column           Non-Null Count  Dtype \n",
      "---  ------           --------------  ----- \n",
      " 0   Gender           400 non-null    object\n",
      " 1   Age              400 non-null    int64 \n",
      " 2   Salary           400 non-null    int64 \n",
      " 3   Purchase Iphone  400 non-null    int64 \n",
      "dtypes: int64(3), object(1)\n",
      "memory usage: 12.6+ KB\n"
     ]
    }
   ],
   "source": [
    "df.info()"
   ]
  },
  {
   "cell_type": "code",
   "execution_count": 9,
   "id": "e41c1175",
   "metadata": {},
   "outputs": [
    {
     "data": {
      "text/html": [
       "<div>\n",
       "<style scoped>\n",
       "    .dataframe tbody tr th:only-of-type {\n",
       "        vertical-align: middle;\n",
       "    }\n",
       "\n",
       "    .dataframe tbody tr th {\n",
       "        vertical-align: top;\n",
       "    }\n",
       "\n",
       "    .dataframe thead th {\n",
       "        text-align: right;\n",
       "    }\n",
       "</style>\n",
       "<table border=\"1\" class=\"dataframe\">\n",
       "  <thead>\n",
       "    <tr style=\"text-align: right;\">\n",
       "      <th></th>\n",
       "      <th>Age</th>\n",
       "      <th>Salary</th>\n",
       "      <th>Purchase Iphone</th>\n",
       "    </tr>\n",
       "  </thead>\n",
       "  <tbody>\n",
       "    <tr>\n",
       "      <th>count</th>\n",
       "      <td>400.000000</td>\n",
       "      <td>400.000000</td>\n",
       "      <td>400.000000</td>\n",
       "    </tr>\n",
       "    <tr>\n",
       "      <th>mean</th>\n",
       "      <td>37.655000</td>\n",
       "      <td>69742.500000</td>\n",
       "      <td>0.357500</td>\n",
       "    </tr>\n",
       "    <tr>\n",
       "      <th>std</th>\n",
       "      <td>10.482877</td>\n",
       "      <td>34096.960282</td>\n",
       "      <td>0.479864</td>\n",
       "    </tr>\n",
       "    <tr>\n",
       "      <th>min</th>\n",
       "      <td>18.000000</td>\n",
       "      <td>15000.000000</td>\n",
       "      <td>0.000000</td>\n",
       "    </tr>\n",
       "    <tr>\n",
       "      <th>25%</th>\n",
       "      <td>29.750000</td>\n",
       "      <td>43000.000000</td>\n",
       "      <td>0.000000</td>\n",
       "    </tr>\n",
       "    <tr>\n",
       "      <th>50%</th>\n",
       "      <td>37.000000</td>\n",
       "      <td>70000.000000</td>\n",
       "      <td>0.000000</td>\n",
       "    </tr>\n",
       "    <tr>\n",
       "      <th>75%</th>\n",
       "      <td>46.000000</td>\n",
       "      <td>88000.000000</td>\n",
       "      <td>1.000000</td>\n",
       "    </tr>\n",
       "    <tr>\n",
       "      <th>max</th>\n",
       "      <td>60.000000</td>\n",
       "      <td>150000.000000</td>\n",
       "      <td>1.000000</td>\n",
       "    </tr>\n",
       "  </tbody>\n",
       "</table>\n",
       "</div>"
      ],
      "text/plain": [
       "              Age         Salary  Purchase Iphone\n",
       "count  400.000000     400.000000       400.000000\n",
       "mean    37.655000   69742.500000         0.357500\n",
       "std     10.482877   34096.960282         0.479864\n",
       "min     18.000000   15000.000000         0.000000\n",
       "25%     29.750000   43000.000000         0.000000\n",
       "50%     37.000000   70000.000000         0.000000\n",
       "75%     46.000000   88000.000000         1.000000\n",
       "max     60.000000  150000.000000         1.000000"
      ]
     },
     "execution_count": 9,
     "metadata": {},
     "output_type": "execute_result"
    }
   ],
   "source": [
    "df.describe()"
   ]
  },
  {
   "cell_type": "code",
   "execution_count": 14,
   "id": "9a22fe9b",
   "metadata": {},
   "outputs": [
    {
     "data": {
      "text/plain": [
       "Female    204\n",
       "Male      196\n",
       "Name: Gender, dtype: int64"
      ]
     },
     "execution_count": 14,
     "metadata": {},
     "output_type": "execute_result"
    }
   ],
   "source": [
    "df.Gender.value_counts()"
   ]
  },
  {
   "cell_type": "code",
   "execution_count": 27,
   "id": "a7967fab",
   "metadata": {},
   "outputs": [
    {
     "data": {
      "text/plain": [
       "Purchase Iphone  Gender\n",
       "0                Male      130\n",
       "                 Female    127\n",
       "1                Female     77\n",
       "                 Male       66\n",
       "Name: Gender, dtype: int64"
      ]
     },
     "execution_count": 27,
     "metadata": {},
     "output_type": "execute_result"
    }
   ],
   "source": [
    "# From Gender, how many people have purchased Iphone \n",
    "df.Gender.groupby(df[\"Purchase Iphone\"]).value_counts()"
   ]
  },
  {
   "cell_type": "code",
   "execution_count": 24,
   "id": "189f0aa3",
   "metadata": {},
   "outputs": [
    {
     "data": {
      "image/png": "[encoded data removed]",
      "text/plain": [
       "<Figure size 432x288 with 1 Axes>"
      ]
     },
     "metadata": {
      "needs_background": "light"
     },
     "output_type": "display_data"
    }
   ],
   "source": [
    "sns.countplot(x=\"Purchase Iphone\",data=df,hue=\"Gender\")\n",
    "plt.grid()"
   ]
  },
  {
   "cell_type": "code",
   "execution_count": 28,
   "id": "1a789696",
   "metadata": {},
   "outputs": [
    {
     "data": {
      "text/plain": [
       "Female    77\n",
       "Male      66\n",
       "Name: Gender, dtype: int64"
      ]
     },
     "execution_count": 28,
     "metadata": {},
     "output_type": "execute_result"
    }
   ],
   "source": [
    "df.loc[df[\"Purchase Iphone\"]==1,\"Gender\"].value_counts()"
   ]
  },
  {
   "cell_type": "code",
   "execution_count": null,
   "id": "8591e7af",
   "metadata": {},
   "outputs": [],
   "source": []
  },
  {
   "cell_type": "markdown",
   "id": "31fbd6e6",
   "metadata": {},
   "source": [
    "# Spliting of Data"
   ]
  },
  {
   "cell_type": "code",
   "execution_count": 30,
   "id": "c4d483c8",
   "metadata": {},
   "outputs": [
    {
     "data": {
      "text/html": [
       "<div>\n",
       "<style scoped>\n",
       "    .dataframe tbody tr th:only-of-type {\n",
       "        vertical-align: middle;\n",
       "    }\n",
       "\n",
       "    .dataframe tbody tr th {\n",
       "        vertical-align: top;\n",
       "    }\n",
       "\n",
       "    .dataframe thead th {\n",
       "        text-align: right;\n",
       "    }\n",
       "</style>\n",
       "<table border=\"1\" class=\"dataframe\">\n",
       "  <thead>\n",
       "    <tr style=\"text-align: right;\">\n",
       "      <th></th>\n",
       "      <th>Gender</th>\n",
       "      <th>Age</th>\n",
       "      <th>Salary</th>\n",
       "      <th>Purchase Iphone</th>\n",
       "    </tr>\n",
       "  </thead>\n",
       "  <tbody>\n",
       "    <tr>\n",
       "      <th>0</th>\n",
       "      <td>Male</td>\n",
       "      <td>19</td>\n",
       "      <td>19000</td>\n",
       "      <td>0</td>\n",
       "    </tr>\n",
       "    <tr>\n",
       "      <th>1</th>\n",
       "      <td>Male</td>\n",
       "      <td>35</td>\n",
       "      <td>20000</td>\n",
       "      <td>0</td>\n",
       "    </tr>\n",
       "    <tr>\n",
       "      <th>2</th>\n",
       "      <td>Female</td>\n",
       "      <td>26</td>\n",
       "      <td>43000</td>\n",
       "      <td>0</td>\n",
       "    </tr>\n",
       "    <tr>\n",
       "      <th>3</th>\n",
       "      <td>Female</td>\n",
       "      <td>27</td>\n",
       "      <td>57000</td>\n",
       "      <td>0</td>\n",
       "    </tr>\n",
       "    <tr>\n",
       "      <th>4</th>\n",
       "      <td>Male</td>\n",
       "      <td>19</td>\n",
       "      <td>76000</td>\n",
       "      <td>0</td>\n",
       "    </tr>\n",
       "    <tr>\n",
       "      <th>5</th>\n",
       "      <td>Male</td>\n",
       "      <td>27</td>\n",
       "      <td>58000</td>\n",
       "      <td>0</td>\n",
       "    </tr>\n",
       "    <tr>\n",
       "      <th>6</th>\n",
       "      <td>Female</td>\n",
       "      <td>27</td>\n",
       "      <td>84000</td>\n",
       "      <td>0</td>\n",
       "    </tr>\n",
       "    <tr>\n",
       "      <th>7</th>\n",
       "      <td>Female</td>\n",
       "      <td>32</td>\n",
       "      <td>150000</td>\n",
       "      <td>1</td>\n",
       "    </tr>\n",
       "    <tr>\n",
       "      <th>8</th>\n",
       "      <td>Male</td>\n",
       "      <td>25</td>\n",
       "      <td>33000</td>\n",
       "      <td>0</td>\n",
       "    </tr>\n",
       "    <tr>\n",
       "      <th>9</th>\n",
       "      <td>Female</td>\n",
       "      <td>35</td>\n",
       "      <td>65000</td>\n",
       "      <td>0</td>\n",
       "    </tr>\n",
       "  </tbody>\n",
       "</table>\n",
       "</div>"
      ],
      "text/plain": [
       "   Gender  Age  Salary  Purchase Iphone\n",
       "0    Male   19   19000                0\n",
       "1    Male   35   20000                0\n",
       "2  Female   26   43000                0\n",
       "3  Female   27   57000                0\n",
       "4    Male   19   76000                0\n",
       "5    Male   27   58000                0\n",
       "6  Female   27   84000                0\n",
       "7  Female   32  150000                1\n",
       "8    Male   25   33000                0\n",
       "9  Female   35   65000                0"
      ]
     },
     "execution_count": 30,
     "metadata": {},
     "output_type": "execute_result"
    }
   ],
   "source": [
    "df.head(10)"
   ]
  },
  {
   "cell_type": "code",
   "execution_count": 32,
   "id": "9096285f",
   "metadata": {},
   "outputs": [],
   "source": [
    "x=df.iloc[:,:-1]\n",
    "y=df.iloc[:,-1]"
   ]
  },
  {
   "cell_type": "code",
   "execution_count": 33,
   "id": "b32a3886",
   "metadata": {},
   "outputs": [
    {
     "data": {
      "text/html": [
       "<div>\n",
       "<style scoped>\n",
       "    .dataframe tbody tr th:only-of-type {\n",
       "        vertical-align: middle;\n",
       "    }\n",
       "\n",
       "    .dataframe tbody tr th {\n",
       "        vertical-align: top;\n",
       "    }\n",
       "\n",
       "    .dataframe thead th {\n",
       "        text-align: right;\n",
       "    }\n",
       "</style>\n",
       "<table border=\"1\" class=\"dataframe\">\n",
       "  <thead>\n",
       "    <tr style=\"text-align: right;\">\n",
       "      <th></th>\n",
       "      <th>Gender</th>\n",
       "      <th>Age</th>\n",
       "      <th>Salary</th>\n",
       "    </tr>\n",
       "  </thead>\n",
       "  <tbody>\n",
       "    <tr>\n",
       "      <th>0</th>\n",
       "      <td>Male</td>\n",
       "      <td>19</td>\n",
       "      <td>19000</td>\n",
       "    </tr>\n",
       "    <tr>\n",
       "      <th>1</th>\n",
       "      <td>Male</td>\n",
       "      <td>35</td>\n",
       "      <td>20000</td>\n",
       "    </tr>\n",
       "    <tr>\n",
       "      <th>2</th>\n",
       "      <td>Female</td>\n",
       "      <td>26</td>\n",
       "      <td>43000</td>\n",
       "    </tr>\n",
       "    <tr>\n",
       "      <th>3</th>\n",
       "      <td>Female</td>\n",
       "      <td>27</td>\n",
       "      <td>57000</td>\n",
       "    </tr>\n",
       "    <tr>\n",
       "      <th>4</th>\n",
       "      <td>Male</td>\n",
       "      <td>19</td>\n",
       "      <td>76000</td>\n",
       "    </tr>\n",
       "    <tr>\n",
       "      <th>...</th>\n",
       "      <td>...</td>\n",
       "      <td>...</td>\n",
       "      <td>...</td>\n",
       "    </tr>\n",
       "    <tr>\n",
       "      <th>395</th>\n",
       "      <td>Female</td>\n",
       "      <td>46</td>\n",
       "      <td>41000</td>\n",
       "    </tr>\n",
       "    <tr>\n",
       "      <th>396</th>\n",
       "      <td>Male</td>\n",
       "      <td>51</td>\n",
       "      <td>23000</td>\n",
       "    </tr>\n",
       "    <tr>\n",
       "      <th>397</th>\n",
       "      <td>Female</td>\n",
       "      <td>50</td>\n",
       "      <td>20000</td>\n",
       "    </tr>\n",
       "    <tr>\n",
       "      <th>398</th>\n",
       "      <td>Male</td>\n",
       "      <td>36</td>\n",
       "      <td>33000</td>\n",
       "    </tr>\n",
       "    <tr>\n",
       "      <th>399</th>\n",
       "      <td>Female</td>\n",
       "      <td>49</td>\n",
       "      <td>36000</td>\n",
       "    </tr>\n",
       "  </tbody>\n",
       "</table>\n",
       "<p>400 rows × 3 columns</p>\n",
       "</div>"
      ],
      "text/plain": [
       "     Gender  Age  Salary\n",
       "0      Male   19   19000\n",
       "1      Male   35   20000\n",
       "2    Female   26   43000\n",
       "3    Female   27   57000\n",
       "4      Male   19   76000\n",
       "..      ...  ...     ...\n",
       "395  Female   46   41000\n",
       "396    Male   51   23000\n",
       "397  Female   50   20000\n",
       "398    Male   36   33000\n",
       "399  Female   49   36000\n",
       "\n",
       "[400 rows x 3 columns]"
      ]
     },
     "execution_count": 33,
     "metadata": {},
     "output_type": "execute_result"
    }
   ],
   "source": [
    "x"
   ]
  },
  {
   "cell_type": "code",
   "execution_count": 34,
   "id": "e06250a8",
   "metadata": {},
   "outputs": [
    {
     "data": {
      "text/plain": [
       "0      0\n",
       "1      0\n",
       "2      0\n",
       "3      0\n",
       "4      0\n",
       "      ..\n",
       "395    1\n",
       "396    1\n",
       "397    1\n",
       "398    0\n",
       "399    1\n",
       "Name: Purchase Iphone, Length: 400, dtype: int64"
      ]
     },
     "execution_count": 34,
     "metadata": {},
     "output_type": "execute_result"
    }
   ],
   "source": [
    "y"
   ]
  },
  {
   "cell_type": "markdown",
   "id": "22be747c",
   "metadata": {},
   "source": [
    "# Label Encoding"
   ]
  },
  {
   "cell_type": "code",
   "execution_count": 35,
   "id": "8b947757",
   "metadata": {},
   "outputs": [],
   "source": [
    "from sklearn.preprocessing import LabelEncoder"
   ]
  },
  {
   "cell_type": "code",
   "execution_count": 36,
   "id": "2be26a0c",
   "metadata": {},
   "outputs": [],
   "source": [
    "enc = LabelEncoder()"
   ]
  },
  {
   "cell_type": "code",
   "execution_count": 37,
   "id": "f25db1a5",
   "metadata": {},
   "outputs": [],
   "source": [
    "x.Gender = enc.fit_transform(x.Gender)"
   ]
  },
  {
   "cell_type": "code",
   "execution_count": 38,
   "id": "ffeb5e72",
   "metadata": {},
   "outputs": [
    {
     "data": {
      "text/html": [
       "<div>\n",
       "<style scoped>\n",
       "    .dataframe tbody tr th:only-of-type {\n",
       "        vertical-align: middle;\n",
       "    }\n",
       "\n",
       "    .dataframe tbody tr th {\n",
       "        vertical-align: top;\n",
       "    }\n",
       "\n",
       "    .dataframe thead th {\n",
       "        text-align: right;\n",
       "    }\n",
       "</style>\n",
       "<table border=\"1\" class=\"dataframe\">\n",
       "  <thead>\n",
       "    <tr style=\"text-align: right;\">\n",
       "      <th></th>\n",
       "      <th>Gender</th>\n",
       "      <th>Age</th>\n",
       "      <th>Salary</th>\n",
       "    </tr>\n",
       "  </thead>\n",
       "  <tbody>\n",
       "    <tr>\n",
       "      <th>0</th>\n",
       "      <td>1</td>\n",
       "      <td>19</td>\n",
       "      <td>19000</td>\n",
       "    </tr>\n",
       "    <tr>\n",
       "      <th>1</th>\n",
       "      <td>1</td>\n",
       "      <td>35</td>\n",
       "      <td>20000</td>\n",
       "    </tr>\n",
       "    <tr>\n",
       "      <th>2</th>\n",
       "      <td>0</td>\n",
       "      <td>26</td>\n",
       "      <td>43000</td>\n",
       "    </tr>\n",
       "    <tr>\n",
       "      <th>3</th>\n",
       "      <td>0</td>\n",
       "      <td>27</td>\n",
       "      <td>57000</td>\n",
       "    </tr>\n",
       "    <tr>\n",
       "      <th>4</th>\n",
       "      <td>1</td>\n",
       "      <td>19</td>\n",
       "      <td>76000</td>\n",
       "    </tr>\n",
       "    <tr>\n",
       "      <th>...</th>\n",
       "      <td>...</td>\n",
       "      <td>...</td>\n",
       "      <td>...</td>\n",
       "    </tr>\n",
       "    <tr>\n",
       "      <th>395</th>\n",
       "      <td>0</td>\n",
       "      <td>46</td>\n",
       "      <td>41000</td>\n",
       "    </tr>\n",
       "    <tr>\n",
       "      <th>396</th>\n",
       "      <td>1</td>\n",
       "      <td>51</td>\n",
       "      <td>23000</td>\n",
       "    </tr>\n",
       "    <tr>\n",
       "      <th>397</th>\n",
       "      <td>0</td>\n",
       "      <td>50</td>\n",
       "      <td>20000</td>\n",
       "    </tr>\n",
       "    <tr>\n",
       "      <th>398</th>\n",
       "      <td>1</td>\n",
       "      <td>36</td>\n",
       "      <td>33000</td>\n",
       "    </tr>\n",
       "    <tr>\n",
       "      <th>399</th>\n",
       "      <td>0</td>\n",
       "      <td>49</td>\n",
       "      <td>36000</td>\n",
       "    </tr>\n",
       "  </tbody>\n",
       "</table>\n",
       "<p>400 rows × 3 columns</p>\n",
       "</div>"
      ],
      "text/plain": [
       "     Gender  Age  Salary\n",
       "0         1   19   19000\n",
       "1         1   35   20000\n",
       "2         0   26   43000\n",
       "3         0   27   57000\n",
       "4         1   19   76000\n",
       "..      ...  ...     ...\n",
       "395       0   46   41000\n",
       "396       1   51   23000\n",
       "397       0   50   20000\n",
       "398       1   36   33000\n",
       "399       0   49   36000\n",
       "\n",
       "[400 rows x 3 columns]"
      ]
     },
     "execution_count": 38,
     "metadata": {},
     "output_type": "execute_result"
    }
   ],
   "source": [
    "x"
   ]
  },
  {
   "cell_type": "code",
   "execution_count": 39,
   "id": "68e85512",
   "metadata": {},
   "outputs": [
    {
     "name": "stdout",
     "output_type": "stream",
     "text": [
      "<class 'pandas.core.frame.DataFrame'>\n",
      "RangeIndex: 400 entries, 0 to 399\n",
      "Data columns (total 3 columns):\n",
      " #   Column  Non-Null Count  Dtype\n",
      "---  ------  --------------  -----\n",
      " 0   Gender  400 non-null    int32\n",
      " 1   Age     400 non-null    int64\n",
      " 2   Salary  400 non-null    int64\n",
      "dtypes: int32(1), int64(2)\n",
      "memory usage: 7.9 KB\n"
     ]
    }
   ],
   "source": [
    "x.info()"
   ]
  },
  {
   "cell_type": "markdown",
   "id": "9bf80803",
   "metadata": {},
   "source": [
    "# Splitting the data into sets"
   ]
  },
  {
   "cell_type": "markdown",
   "id": "538aae36",
   "metadata": {},
   "source": [
    "StandardScaler standardizes a feature by subtracting the mean and then scaling to unit variance. Unit variance means dividing all the values by the standard deviation. StandardScaler makes the mean of the distribution 0.\n",
    "About **68%** of the values will lie be between **-1 and 1**"
   ]
  },
  {
   "cell_type": "code",
   "execution_count": 40,
   "id": "87b87749",
   "metadata": {},
   "outputs": [],
   "source": [
    "skf = StratifiedKFold(n_splits=5)"
   ]
  },
  {
   "cell_type": "code",
   "execution_count": 41,
   "id": "d5a8ccf5",
   "metadata": {},
   "outputs": [],
   "source": [
    "for train_idex,test_index in skf.split(x,y):\n",
    "    x_train,x_test = x.iloc[train_idex],x.iloc[test_index]\n",
    "    y_train,y_test = y.iloc[train_idex],y.iloc[test_index]"
   ]
  },
  {
   "cell_type": "markdown",
   "id": "3aae7f18",
   "metadata": {},
   "source": [
    "# Feature Scaling"
   ]
  },
  {
   "cell_type": "code",
   "execution_count": 44,
   "id": "d422031a",
   "metadata": {},
   "outputs": [],
   "source": [
    "scale =  StandardScaler()"
   ]
  },
  {
   "cell_type": "code",
   "execution_count": 46,
   "id": "01fc594b",
   "metadata": {},
   "outputs": [],
   "source": [
    "x_train= scale.fit_transform(x_train)\n",
    "x_test= scale.fit_transform(x_test)"
   ]
  },
  {
   "cell_type": "code",
   "execution_count": 47,
   "id": "a9f5cf32",
   "metadata": {},
   "outputs": [
    {
     "data": {
      "text/plain": [
       "array([[ 1.02532046, -1.61062735, -1.48261454],\n",
       "       [ 1.02532046, -0.10854866, -1.45444971],\n",
       "       [-0.97530483, -0.95346792, -0.80665849],\n",
       "       [-0.97530483, -0.859588  , -0.41235079],\n",
       "       [ 1.02532046, -1.61062735,  0.12278108],\n",
       "       [ 1.02532046, -0.859588  , -0.38418596],\n",
       "       [-0.97530483, -0.859588  ,  0.34809976],\n",
       "       [-0.97530483, -0.39018841,  2.20697891],\n",
       "       [ 1.02532046, -1.04734784, -1.08830685],\n",
       "       [-0.97530483, -0.10854866, -0.18703211],\n",
       "       [-0.97530483, -0.95346792,  0.23544042],\n",
       "       [-0.97530483, -0.95346792, -0.55317497],\n",
       "       [ 1.02532046, -1.51674743,  0.40442943],\n",
       "       [ 1.02532046, -0.39018841, -1.51077938],\n",
       "       [ 1.02532046, -1.70450727,  0.29177009],\n",
       "       [ 1.02532046, -0.67182817,  0.23544042],\n",
       "       [ 1.02532046,  1.01801037, -1.31362553],\n",
       "       [ 1.02532046,  0.83025053, -1.28546069],\n",
       "       [ 1.02532046,  0.92413045, -1.22913102],\n",
       "       [-0.97530483,  1.11189029, -1.20096619],\n",
       "       [ 1.02532046,  0.83025053, -1.39812004],\n",
       "       [-0.97530483,  1.01801037, -0.63766948],\n",
       "       [ 1.02532046,  1.11189029, -0.86298816],\n",
       "       [-0.97530483,  0.83025053, -1.39812004],\n",
       "       [ 1.02532046,  0.92413045, -1.3699552 ],\n",
       "       [ 1.02532046,  1.01801037, -1.45444971],\n",
       "       [ 1.02532046,  1.2057702 , -1.22913102],\n",
       "       [-0.97530483,  1.01801037, -1.17280135],\n",
       "       [ 1.02532046, -0.67182817, -0.80665849],\n",
       "       [ 1.02532046, -0.48406833, -1.51077938],\n",
       "       [ 1.02532046, -0.48406833,  0.06645141],\n",
       "       [-0.97530483, -0.859588  ,  1.84083604],\n",
       "       [-0.97530483, -1.42286752, -1.56710905],\n",
       "       [-0.97530483, -0.76570809, -0.77849366],\n",
       "       [ 1.02532046, -0.859588  ,  0.51708878],\n",
       "       [ 1.02532046, -0.10854866, -1.25729586],\n",
       "       [-0.97530483, -0.29630849, -1.22913102],\n",
       "       [ 1.02532046, -0.57794825, -0.63766948],\n",
       "       [-0.97530483, -0.95346792,  0.01012174],\n",
       "       [-0.97530483, -0.859588  , -1.14463652],\n",
       "       [-0.97530483, -0.859588  , -1.53894421],\n",
       "       [-0.97530483, -0.29630849, -0.58133981],\n",
       "       [ 1.02532046, -0.10854866,  1.02405582],\n",
       "       [ 1.02532046, -0.57794825, -1.59527389],\n",
       "       [-0.97530483, -0.76570809,  0.34809976],\n",
       "       [ 1.02532046, -1.23510768, -1.45444971],\n",
       "       [ 1.02532046, -1.04734784,  0.20727559],\n",
       "       [-0.97530483, -0.859588  , -0.4968453 ],\n",
       "       [ 1.02532046, -0.57794825,  1.78450637],\n",
       "       [-0.97530483, -0.48406833,  0.48892394],\n",
       "       [-0.97530483, -1.14122776, -1.11647168],\n",
       "       [-0.97530483, -1.70450727, -0.77849366],\n",
       "       [-0.97530483, -0.67182817,  0.31993493],\n",
       "       [-0.97530483, -0.10854866, -1.3699552 ],\n",
       "       [-0.97530483, -0.859588  , -0.38418596],\n",
       "       [-0.97530483, -1.14122776, -0.46868047],\n",
       "       [-0.97530483, -1.23510768, -0.66583431],\n",
       "       [ 1.02532046, -0.76570809,  0.20727559],\n",
       "       [ 1.02532046, -1.3289876 , -1.51077938],\n",
       "       [-0.97530483, -0.39018841,  1.27753933],\n",
       "       [ 1.02532046, -0.859588  , -1.45444971],\n",
       "       [ 1.02532046, -1.04734784,  0.43259427],\n",
       "       [-0.97530483, -1.23510768, -0.15886728],\n",
       "       [ 1.02532046, -0.39018841,  1.36203384],\n",
       "       [-0.97530483,  2.14456939,  0.31993493],\n",
       "       [ 1.02532046, -1.14122776, -0.38418596],\n",
       "       [ 1.02532046, -1.14122776, -1.48261454],\n",
       "       [-0.97530483, -1.23510768,  0.29177009],\n",
       "       [-0.97530483, -1.3289876 , -0.24336178],\n",
       "       [-0.97530483, -0.48406833, -0.1025376 ],\n",
       "       [ 1.02532046, -1.04734784,  0.23544042],\n",
       "       [-0.97530483, -1.14122776, -1.25729586],\n",
       "       [-0.97530483, -1.51674743, -1.3699552 ],\n",
       "       [-0.97530483, -0.29630849,  1.16487999],\n",
       "       [ 1.02532046, -0.39018841, -1.51077938],\n",
       "       [ 1.02532046, -0.20242857,  1.13671516],\n",
       "       [ 1.02532046, -1.70450727, -0.55317497],\n",
       "       [-0.97530483, -1.3289876 , -1.25729586],\n",
       "       [-0.97530483, -0.76570809,  0.43259427],\n",
       "       [-0.97530483, -0.95346792, -1.53894421],\n",
       "       [ 1.02532046, -0.57794825,  0.23544042],\n",
       "       [ 1.02532046,  0.26697102, -0.83482333],\n",
       "       [ 1.02532046, -1.51674743, -0.63766948],\n",
       "       [ 1.02532046, -0.10854866,  0.46075911],\n",
       "       [-0.97530483, -0.57794825, -0.27152662],\n",
       "       [-0.97530483, -0.48406833,  1.30570417],\n",
       "       [ 1.02532046, -1.14122776, -0.46868047],\n",
       "       [-0.97530483, -0.76570809,  0.3762646 ],\n",
       "       [ 1.02532046, -0.95346792,  0.26360526],\n",
       "       [ 1.02532046, -0.10854866, -0.60950464],\n",
       "       [ 1.02532046, -1.3289876 ,  0.26360526],\n",
       "       [-0.97530483, -0.57794825,  1.2493745 ],\n",
       "       [ 1.02532046, -0.95346792, -1.59527389],\n",
       "       [-0.97530483, -0.67182817, -1.22913102],\n",
       "       [-0.97530483, -0.67182817,  0.31993493],\n",
       "       [-0.97530483, -0.10854866, -0.77849366],\n",
       "       [-0.97530483, -0.10854866, -1.31362553],\n",
       "       [ 1.02532046, -0.76570809,  1.44652835],\n",
       "       [ 1.02532046, -0.10854866,  0.03828657],\n",
       "       [-0.97530483, -0.76570809, -0.9756475 ],\n",
       "       [ 1.02532046, -0.859588  ,  0.46075911],\n",
       "       [ 1.02532046, -0.76570809, -0.35602112],\n",
       "       [-0.97530483, -0.39018841,  0.40442943],\n",
       "       [-0.97530483, -0.29630849,  2.17881407],\n",
       "       [-0.97530483, -1.61062735, -1.42628487],\n",
       "       [ 1.02532046, -1.42286752,  0.01012174],\n",
       "       [-0.97530483, -0.95346792, -1.03197718],\n",
       "       [ 1.02532046, -0.859588  ,  0.48892394],\n",
       "       [ 1.02532046, -0.95346792,  0.40442943],\n",
       "       [-0.97530483,  0.1730911 ,  0.23544042],\n",
       "       [-0.97530483,  0.26697102, -0.0180431 ],\n",
       "       [-0.97530483,  0.07921118, -0.0180431 ],\n",
       "       [ 1.02532046,  0.1730911 , -0.29969145],\n",
       "       [ 1.02532046,  0.07921118, -0.46868047],\n",
       "       [ 1.02532046,  0.54861077,  0.23544042],\n",
       "       [ 1.02532046,  0.36085094, -0.41235079],\n",
       "       [ 1.02532046, -0.10854866,  0.09461624],\n",
       "       [ 1.02532046, -0.01466874, -0.55317497],\n",
       "       [ 1.02532046,  0.36085094, -0.35602112],\n",
       "       [ 1.02532046,  0.45473086, -0.35602112],\n",
       "       [-0.97530483, -0.01466874,  0.09461624],\n",
       "       [ 1.02532046,  0.07921118,  0.01012174],\n",
       "       [-0.97530483,  0.36085094,  0.09461624],\n",
       "       [ 1.02532046, -0.10854866, -0.52501014],\n",
       "       [-0.97530483,  0.45473086, -0.58133981],\n",
       "       [-0.97530483,  0.26697102, -0.29969145],\n",
       "       [ 1.02532046,  0.54861077, -0.18703211],\n",
       "       [ 1.02532046, -0.95346792, -1.11647168],\n",
       "       [ 1.02532046, -0.57794825, -1.53894421],\n",
       "       [-0.97530483, -0.95346792,  0.34809976],\n",
       "       [ 1.02532046, -0.48406833, -0.38418596],\n",
       "       [ 1.02532046, -0.29630849, -1.14463652],\n",
       "       [ 1.02532046, -0.57794825,  0.43259427],\n",
       "       [-0.97530483, -1.42286752, -0.1025376 ],\n",
       "       [-0.97530483, -0.76570809, -0.46868047],\n",
       "       [ 1.02532046, -1.23510768, -0.24336178],\n",
       "       [-0.97530483, -1.51674743,  0.29177009],\n",
       "       [ 1.02532046, -0.57794825,  0.99589098],\n",
       "       [-0.97530483, -0.76570809, -0.35602112],\n",
       "       [ 1.02532046, -1.61062735, -1.31362553],\n",
       "       [ 1.02532046, -1.61062735,  0.3762646 ],\n",
       "       [-0.97530483, -1.70450727, -0.1025376 ],\n",
       "       [ 1.02532046, -0.10854866, -0.35602112],\n",
       "       [ 1.02532046, -0.57794825,  0.48892394],\n",
       "       [-0.97530483, -0.20242857, -1.31362553],\n",
       "       [-0.97530483, -1.14122776,  0.48892394],\n",
       "       [-0.97530483, -0.859588  ,  0.68607779],\n",
       "       [-0.97530483,  0.45473086, -1.17280135],\n",
       "       [ 1.02532046, -0.67182817, -0.29969145],\n",
       "       [ 1.02532046, -1.51674743,  0.06645141],\n",
       "       [-0.97530483, -0.95346792, -1.59527389],\n",
       "       [ 1.02532046,  0.45473086, -0.75032882],\n",
       "       [ 1.02532046, -0.48406833,  0.12278108],\n",
       "       [-0.97530483, -0.01466874, -0.60950464],\n",
       "       [ 1.02532046,  0.36085094, -0.69399915],\n",
       "       [-0.97530483, -0.48406833, -1.59527389],\n",
       "       [ 1.02532046,  0.92413045, -0.35602112],\n",
       "       [ 1.02532046, -0.67182817,  0.09461624],\n",
       "       [ 1.02532046, -0.95346792, -1.17280135],\n",
       "       [-0.97530483, -0.39018841,  1.78450637],\n",
       "       [ 1.02532046, -0.39018841,  0.79873713],\n",
       "       [ 1.02532046, -1.04734784,  0.51708878],\n",
       "       [-0.97530483,  0.07921118, -1.08830685],\n",
       "       [ 1.02532046, -0.10854866, -0.94748267],\n",
       "       [-0.97530483, -0.29630849, -0.07437277],\n",
       "       [-0.97530483, -1.70450727,  0.40442943],\n",
       "       [-0.97530483, -1.3289876 , -0.46868047],\n",
       "       [-0.97530483, -0.10854866, -0.0180431 ],\n",
       "       [ 1.02532046, -0.67182817,  2.15064923],\n",
       "       [-0.97530483, -0.67182817, -0.69399915],\n",
       "       [ 1.02532046, -1.42286752,  0.46075911],\n",
       "       [ 1.02532046, -0.20242857,  1.22120966],\n",
       "       [-0.97530483, -0.95346792,  1.30570417],\n",
       "       [-0.97530483, -0.20242857, -0.80665849],\n",
       "       [-0.97530483, -0.20242857,  0.01012174],\n",
       "       [-0.97530483, -1.23510768, -1.22913102],\n",
       "       [-0.97530483, -0.10854866, -0.69399915],\n",
       "       [ 1.02532046, -1.04734784, -1.39812004],\n",
       "       [ 1.02532046, -1.14122776, -1.3699552 ],\n",
       "       [-0.97530483, -0.48406833, -1.06014201],\n",
       "       [ 1.02532046, -0.95346792, -1.56710905],\n",
       "       [-0.97530483, -0.48406833, -0.0180431 ],\n",
       "       [-0.97530483, -0.39018841,  1.27753933],\n",
       "       [ 1.02532046, -0.29630849, -0.80665849],\n",
       "       [-0.97530483, -0.29630849, -0.32785629],\n",
       "       [ 1.02532046, -0.48406833, -0.15886728],\n",
       "       [-0.97530483, -1.51674743,  0.29177009],\n",
       "       [-0.97530483, -0.29630849, -0.86298816],\n",
       "       [ 1.02532046, -0.10854866,  0.01012174],\n",
       "       [ 1.02532046, -0.76570809, -1.11647168],\n",
       "       [ 1.02532046, -1.14122776,  0.34809976],\n",
       "       [-0.97530483, -1.61062735, -1.28546069],\n",
       "       [ 1.02532046, -0.67182817, -0.80665849],\n",
       "       [ 1.02532046, -1.61062735, -0.04620793],\n",
       "       [ 1.02532046, -0.76570809,  0.48892394],\n",
       "       [ 1.02532046, -0.20242857, -0.80665849],\n",
       "       [-0.97530483, -0.57794825,  0.20727559],\n",
       "       [-0.97530483, -1.51674743, -1.00381234],\n",
       "       [ 1.02532046, -0.95346792,  0.23544042],\n",
       "       [ 1.02532046, -0.10854866, -1.39812004],\n",
       "       [ 1.02532046, -0.10854866, -0.91931783],\n",
       "       [ 1.02532046,  1.2057702 ,  0.06645141],\n",
       "       [-0.97530483,  0.26697102,  1.75634154],\n",
       "       [-0.97530483,  0.45473086, -0.0180431 ],\n",
       "       [-0.97530483,  2.05068947,  0.82690197],\n",
       "       [-0.97530483,  1.01801037, -0.69399915],\n",
       "       [-0.97530483,  1.76904972,  1.6436822 ],\n",
       "       [-0.97530483,  1.48740996,  1.19304483],\n",
       "       [-0.97530483,  0.36085094,  1.98166022],\n",
       "       [-0.97530483,  0.92413045, -1.39812004],\n",
       "       [-0.97530483,  1.11189029,  0.68607779],\n",
       "       [ 1.02532046,  1.48740996,  2.20697891],\n",
       "       [-0.97530483,  2.14456939, -0.83482333],\n",
       "       [ 1.02532046, -0.10854866, -0.38418596],\n",
       "       [ 1.02532046,  1.01801037, -0.80665849],\n",
       "       [-0.97530483,  2.23844931,  1.02405582],\n",
       "       [ 1.02532046,  1.2057702 , -0.18703211],\n",
       "       [ 1.02532046,  0.36085094,  0.17911075],\n",
       "       [-0.97530483,  0.92413045,  0.68607779],\n",
       "       [ 1.02532046,  2.14456939,  2.00982506],\n",
       "       [-0.97530483,  0.45473086,  0.23544042],\n",
       "       [ 1.02532046, -0.10854866,  0.54525361],\n",
       "       [ 1.02532046,  0.07921118,  2.03798989],\n",
       "       [ 1.02532046,  2.23844931,  0.8550668 ],\n",
       "       [-0.97530483, -0.10854866, -0.32785629],\n",
       "       [ 1.02532046,  0.07921118, -0.52501014],\n",
       "       [-0.97530483, -0.01466874,  1.53102285],\n",
       "       [ 1.02532046,  1.86292963,  1.7281767 ],\n",
       "       [-0.97530483,  0.36085094,  0.01012174],\n",
       "       [-0.97530483,  0.54861077,  0.23544042],\n",
       "       [-0.97530483, -0.10854866,  2.1224844 ],\n",
       "       [ 1.02532046,  0.26697102, -0.83482333],\n",
       "       [ 1.02532046,  0.36085094,  0.99589098],\n",
       "       [ 1.02532046,  1.2057702 ,  0.40442943],\n",
       "       [-0.97530483,  0.1730911 ,  1.13671516],\n",
       "       [ 1.02532046,  0.92413045,  0.20727559],\n",
       "       [ 1.02532046,  0.36085094, -0.41235079],\n",
       "       [-0.97530483,  0.07921118,  0.23544042],\n",
       "       [-0.97530483,  0.92413045,  0.29177009],\n",
       "       [-0.97530483,  1.58128988,  2.00982506],\n",
       "       [ 1.02532046,  0.54861077,  2.17881407],\n",
       "       [ 1.02532046,  0.1730911 , -0.35602112],\n",
       "       [-0.97530483,  1.29965012,  0.46075911],\n",
       "       [-0.97530483,  1.86292963,  0.91139647],\n",
       "       [-0.97530483,  0.45473086,  0.01012174],\n",
       "       [-0.97530483,  1.39353004,  2.09431956],\n",
       "       [-0.97530483, -0.10854866, -0.60950464],\n",
       "       [-0.97530483,  1.95680955,  1.41836351],\n",
       "       [ 1.02532046,  0.45473086, -0.55317497],\n",
       "       [-0.97530483, -0.10854866,  0.71424262],\n",
       "       [-0.97530483,  0.73637061, -0.91931783],\n",
       "       [ 1.02532046,  0.07921118, -0.55317497],\n",
       "       [-0.97530483,  1.11189029,  1.75634154],\n",
       "       [-0.97530483,  0.07921118,  2.09431956],\n",
       "       [-0.97530483,  1.29965012, -0.77849366],\n",
       "       [-0.97530483,  1.48740996,  0.51708878],\n",
       "       [-0.97530483,  0.45473086,  0.01012174],\n",
       "       [ 1.02532046,  0.36085094, -0.41235079],\n",
       "       [-0.97530483,  2.05068947,  0.65791295],\n",
       "       [-0.97530483,  0.83025053,  1.67184703],\n",
       "       [-0.97530483, -0.10854866,  0.15094592],\n",
       "       [ 1.02532046, -0.01466874,  2.03798989],\n",
       "       [-0.97530483,  1.76904972,  1.50285802],\n",
       "       [-0.97530483, -0.10854866,  0.01012174],\n",
       "       [ 1.02532046,  1.11189029,  0.51708878],\n",
       "       [-0.97530483,  0.54861077,  1.02405582],\n",
       "       [-0.97530483,  1.01801037,  2.03798989],\n",
       "       [-0.97530483,  2.14456939,  0.12278108],\n",
       "       [ 1.02532046,  2.23844931, -0.83482333],\n",
       "       [ 1.02532046,  0.26697102,  0.96772614],\n",
       "       [-0.97530483,  1.95680955, -1.28546069],\n",
       "       [ 1.02532046,  1.95680955,  0.06645141],\n",
       "       [ 1.02532046,  1.2057702 ,  0.46075911],\n",
       "       [-0.97530483,  1.48740996, -0.94748267],\n",
       "       [-0.97530483,  1.29965012, -1.00381234],\n",
       "       [-0.97530483,  2.14456939,  0.46075911],\n",
       "       [ 1.02532046,  0.07921118, -0.04620793],\n",
       "       [-0.97530483,  1.48740996, -1.42628487],\n",
       "       [-0.97530483,  0.07921118,  0.60158328],\n",
       "       [-0.97530483,  1.11189029,  1.86900088],\n",
       "       [-0.97530483,  0.07921118,  0.17911075],\n",
       "       [ 1.02532046,  0.26697102,  1.75634154],\n",
       "       [ 1.02532046,  1.2057702 ,  0.48892394],\n",
       "       [ 1.02532046,  1.76904972, -0.91931783],\n",
       "       [ 1.02532046,  0.54861077,  0.03828657],\n",
       "       [-0.97530483,  0.64249069,  1.13671516],\n",
       "       [ 1.02532046,  0.92413045,  1.27753933],\n",
       "       [-0.97530483,  2.05068947, -0.94748267],\n",
       "       [ 1.02532046,  1.11189029,  0.06645141],\n",
       "       [-0.97530483,  0.07921118,  1.84083604],\n",
       "       [ 1.02532046,  0.07921118,  0.20727559],\n",
       "       [-0.97530483,  1.01801037,  1.16487999],\n",
       "       [ 1.02532046, -0.01466874,  1.50285802],\n",
       "       [ 1.02532046,  0.26697102,  0.68607779],\n",
       "       [-0.97530483,  1.2057702 ,  1.95349539],\n",
       "       [-0.97530483,  0.26697102,  0.09461624],\n",
       "       [-0.97530483,  1.6751698 ,  0.91139647],\n",
       "       [ 1.02532046,  0.83025053, -1.11647168],\n",
       "       [-0.97530483,  1.48740996,  1.86900088],\n",
       "       [-0.97530483,  1.58128988,  0.29177009],\n",
       "       [-0.97530483,  1.11189029, -1.17280135],\n",
       "       [-0.97530483,  1.11189029,  1.67184703],\n",
       "       [ 1.02532046, -0.01466874,  1.30570417],\n",
       "       [-0.97530483,  1.01801037,  0.99589098],\n",
       "       [-0.97530483,  1.11189029,  1.33386901],\n",
       "       [ 1.02532046,  1.95680955, -0.32785629],\n",
       "       [ 1.02532046,  2.05068947,  2.03798989],\n",
       "       [ 1.02532046,  0.26697102,  1.41836351],\n",
       "       [-0.97530483,  1.58128988,  0.91139647],\n",
       "       [-0.97530483,  1.01801037, -0.58133981],\n",
       "       [ 1.02532046,  1.01801037,  0.93956131],\n",
       "       [ 1.02532046,  1.58128988,  0.01012174],\n",
       "       [-0.97530483,  1.6751698 ,  1.02405582],\n",
       "       [-0.97530483,  0.1730911 ,  1.16487999],\n",
       "       [-0.97530483,  0.54861077,  0.51708878],\n",
       "       [ 1.02532046, -0.01466874,  0.7705723 ],\n",
       "       [ 1.02532046,  2.23844931, -1.06014201],\n",
       "       [ 1.02532046,  1.6751698 , -0.04620793],\n",
       "       [ 1.02532046,  0.36085094, -0.0180431 ],\n",
       "       [ 1.02532046,  0.64249069,  1.61551736]])"
      ]
     },
     "execution_count": 47,
     "metadata": {},
     "output_type": "execute_result"
    }
   ],
   "source": [
    "x_train"
   ]
  },
  {
   "cell_type": "markdown",
   "id": "258ef481",
   "metadata": {},
   "source": [
    "# Model Selection"
   ]
  },
  {
   "cell_type": "code",
   "execution_count": 61,
   "id": "46e5cf80",
   "metadata": {},
   "outputs": [],
   "source": [
    "log = LogisticRegression()\n",
    "knn = KNeighborsClassifier(n_neighbors=5)"
   ]
  },
  {
   "cell_type": "markdown",
   "id": "c53a19b2",
   "metadata": {},
   "source": [
    "# Fitting the model"
   ]
  },
  {
   "cell_type": "code",
   "execution_count": 62,
   "id": "ee694393",
   "metadata": {},
   "outputs": [
    {
     "data": {
      "text/plain": [
       "KNeighborsClassifier()"
      ]
     },
     "execution_count": 62,
     "metadata": {},
     "output_type": "execute_result"
    }
   ],
   "source": [
    "log.fit(x_train,y_train)\n",
    "knn.fit(x_train,y_train)"
   ]
  },
  {
   "cell_type": "markdown",
   "id": "405ebb24",
   "metadata": {},
   "source": [
    "# Test the model"
   ]
  },
  {
   "cell_type": "code",
   "execution_count": 63,
   "id": "ce0d63e3",
   "metadata": {},
   "outputs": [],
   "source": [
    "y_knn_pred = knn.predict(x_test)"
   ]
  },
  {
   "cell_type": "code",
   "execution_count": 64,
   "id": "63e72380",
   "metadata": {},
   "outputs": [],
   "source": [
    "newdf=pd.DataFrame({\"Actual\":y_test,\"Predict\":y_knn_pred})"
   ]
  },
  {
   "cell_type": "code",
   "execution_count": 65,
   "id": "1fd9fef8",
   "metadata": {},
   "outputs": [
    {
     "data": {
      "text/html": [
       "<div>\n",
       "<style scoped>\n",
       "    .dataframe tbody tr th:only-of-type {\n",
       "        vertical-align: middle;\n",
       "    }\n",
       "\n",
       "    .dataframe tbody tr th {\n",
       "        vertical-align: top;\n",
       "    }\n",
       "\n",
       "    .dataframe thead th {\n",
       "        text-align: right;\n",
       "    }\n",
       "</style>\n",
       "<table border=\"1\" class=\"dataframe\">\n",
       "  <thead>\n",
       "    <tr style=\"text-align: right;\">\n",
       "      <th></th>\n",
       "      <th>Actual</th>\n",
       "      <th>Predict</th>\n",
       "    </tr>\n",
       "  </thead>\n",
       "  <tbody>\n",
       "    <tr>\n",
       "      <th>266</th>\n",
       "      <td>0</td>\n",
       "      <td>0</td>\n",
       "    </tr>\n",
       "    <tr>\n",
       "      <th>267</th>\n",
       "      <td>0</td>\n",
       "      <td>0</td>\n",
       "    </tr>\n",
       "    <tr>\n",
       "      <th>269</th>\n",
       "      <td>0</td>\n",
       "      <td>0</td>\n",
       "    </tr>\n",
       "    <tr>\n",
       "      <th>270</th>\n",
       "      <td>0</td>\n",
       "      <td>1</td>\n",
       "    </tr>\n",
       "    <tr>\n",
       "      <th>276</th>\n",
       "      <td>0</td>\n",
       "      <td>0</td>\n",
       "    </tr>\n",
       "  </tbody>\n",
       "</table>\n",
       "</div>"
      ],
      "text/plain": [
       "     Actual  Predict\n",
       "266       0        0\n",
       "267       0        0\n",
       "269       0        0\n",
       "270       0        1\n",
       "276       0        0"
      ]
     },
     "execution_count": 65,
     "metadata": {},
     "output_type": "execute_result"
    }
   ],
   "source": [
    "newdf.head()"
   ]
  },
  {
   "cell_type": "code",
   "execution_count": 66,
   "id": "39519fa8",
   "metadata": {},
   "outputs": [
    {
     "data": {
      "text/plain": [
       "array([[46,  5],\n",
       "       [ 7, 22]], dtype=int64)"
      ]
     },
     "execution_count": 66,
     "metadata": {},
     "output_type": "execute_result"
    }
   ],
   "source": [
    "confusion_matrix(y_test,y_knn_pred)"
   ]
  },
  {
   "cell_type": "code",
   "execution_count": null,
   "id": "cceeea7c",
   "metadata": {},
   "outputs": [],
   "source": [
    "# Accuracy = (46+22)/80 = 68/80 = 0.85 = 85%"
   ]
  },
  {
   "cell_type": "code",
   "execution_count": 56,
   "id": "45077f3d",
   "metadata": {},
   "outputs": [],
   "source": [
    "from sklearn.metrics import accuracy_score"
   ]
  },
  {
   "cell_type": "code",
   "execution_count": 67,
   "id": "3897d4cc",
   "metadata": {},
   "outputs": [
    {
     "data": {
      "text/plain": [
       "0.85"
      ]
     },
     "execution_count": 67,
     "metadata": {},
     "output_type": "execute_result"
    }
   ],
   "source": [
    "accuracy_score(y_test,y_knn_pred)"
   ]
  },
  {
   "cell_type": "code",
   "execution_count": 76,
   "id": "6c484069",
   "metadata": {},
   "outputs": [],
   "source": [
    "lis=[i for i in range(3,100) if i%2!=0]"
   ]
  },
  {
   "cell_type": "code",
   "execution_count": 77,
   "id": "47d18d5e",
   "metadata": {},
   "outputs": [
    {
     "name": "stdout",
     "output_type": "stream",
     "text": [
      "0.8875\n"
     ]
    }
   ],
   "source": [
    "acc=[]\n",
    "dic={}\n",
    "for i in lis:\n",
    "    knn=KNeighborsClassifier(n_neighbors=i)\n",
    "    knn.fit(x_train,y_train)\n",
    "    y_knn_pred= knn.predict(x_test)\n",
    "    acc.append(accuracy_score(y_test,y_knn_pred))\n",
    "    dic[i]=accuracy_score(y_test,y_knn_pred)\n",
    "    \n",
    "print(max(acc))    "
   ]
  },
  {
   "cell_type": "code",
   "execution_count": 78,
   "id": "476a7cb3",
   "metadata": {
    "scrolled": true
   },
   "outputs": [
    {
     "data": {
      "text/plain": [
       "{3: 0.8375,\n",
       " 5: 0.85,\n",
       " 7: 0.85,\n",
       " 9: 0.8625,\n",
       " 11: 0.8875,\n",
       " 13: 0.8875,\n",
       " 15: 0.875,\n",
       " 17: 0.85,\n",
       " 19: 0.8,\n",
       " 21: 0.7875,\n",
       " 23: 0.775,\n",
       " 25: 0.7625,\n",
       " 27: 0.7375,\n",
       " 29: 0.7375,\n",
       " 31: 0.7375,\n",
       " 33: 0.7375,\n",
       " 35: 0.7375,\n",
       " 37: 0.7375,\n",
       " 39: 0.7375,\n",
       " 41: 0.7375,\n",
       " 43: 0.7375,\n",
       " 45: 0.7375,\n",
       " 47: 0.7375,\n",
       " 49: 0.7375,\n",
       " 51: 0.7375,\n",
       " 53: 0.7375,\n",
       " 55: 0.7375,\n",
       " 57: 0.7375,\n",
       " 59: 0.7375,\n",
       " 61: 0.7375,\n",
       " 63: 0.725,\n",
       " 65: 0.725,\n",
       " 67: 0.725,\n",
       " 69: 0.725,\n",
       " 71: 0.725,\n",
       " 73: 0.725,\n",
       " 75: 0.725,\n",
       " 77: 0.725,\n",
       " 79: 0.725,\n",
       " 81: 0.725,\n",
       " 83: 0.725,\n",
       " 85: 0.725,\n",
       " 87: 0.725,\n",
       " 89: 0.7125,\n",
       " 91: 0.7,\n",
       " 93: 0.7,\n",
       " 95: 0.7,\n",
       " 97: 0.6875,\n",
       " 99: 0.6875}"
      ]
     },
     "execution_count": 78,
     "metadata": {},
     "output_type": "execute_result"
    }
   ],
   "source": [
    "dic"
   ]
  },
  {
   "cell_type": "code",
   "execution_count": null,
   "id": "21a4067c",
   "metadata": {},
   "outputs": [],
   "source": []
  },
  {
   "cell_type": "code",
   "execution_count": null,
   "id": "da761a34",
   "metadata": {},
   "outputs": [],
   "source": []
  },
  {
   "cell_type": "code",
   "execution_count": 87,
   "id": "d7b431b0",
   "metadata": {},
   "outputs": [],
   "source": [
    "y_log_pred=log.predict(x_test)"
   ]
  },
  {
   "cell_type": "code",
   "execution_count": 88,
   "id": "48f380d2",
   "metadata": {},
   "outputs": [
    {
     "data": {
      "text/plain": [
       "0.725"
      ]
     },
     "execution_count": 88,
     "metadata": {},
     "output_type": "execute_result"
    }
   ],
   "source": [
    "accuracy_score(y_test,y_log_pred)"
   ]
  },
  {
   "cell_type": "code",
   "execution_count": null,
   "id": "2d51b2ed",
   "metadata": {},
   "outputs": [],
   "source": []
  },
  {
   "cell_type": "code",
   "execution_count": null,
   "id": "a085d7a4",
   "metadata": {},
   "outputs": [],
   "source": []
  },
  {
   "cell_type": "code",
   "execution_count": null,
   "id": "48356236",
   "metadata": {},
   "outputs": [],
   "source": []
  },
  {
   "cell_type": "code",
   "execution_count": null,
   "id": "76cf455c",
   "metadata": {},
   "outputs": [],
   "source": []
  },
  {
   "cell_type": "code",
   "execution_count": null,
   "id": "d3275d8e",
   "metadata": {},
   "outputs": [],
   "source": []
  },
  {
   "cell_type": "code",
   "execution_count": null,
   "id": "76e47a3a",
   "metadata": {},
   "outputs": [],
   "source": []
  },
  {
   "cell_type": "code",
   "execution_count": null,
   "id": "be3d5815",
   "metadata": {},
   "outputs": [],
   "source": []
  },
  {
   "cell_type": "code",
   "execution_count": null,
   "id": "72d16ee8",
   "metadata": {},
   "outputs": [],
   "source": []
  },
  {
   "cell_type": "code",
   "execution_count": null,
   "id": "7fda1f8f",
   "metadata": {},
   "outputs": [],
   "source": []
  },
  {
   "cell_type": "code",
   "execution_count": null,
   "id": "1c346d95",
   "metadata": {},
   "outputs": [],
   "source": []
  },
  {
   "cell_type": "code",
   "execution_count": null,
   "id": "fd1a6280",
   "metadata": {},
   "outputs": [],
   "source": []
  },
  {
   "cell_type": "code",
   "execution_count": null,
   "id": "39da6b62",
   "metadata": {},
   "outputs": [],
   "source": []
  },
  {
   "cell_type": "code",
   "execution_count": null,
   "id": "76d4a152",
   "metadata": {},
   "outputs": [],
   "source": []
  },
  {
   "cell_type": "code",
   "execution_count": null,
   "id": "4c0ce01f",
   "metadata": {},
   "outputs": [],
   "source": []
  },
  {
   "cell_type": "code",
   "execution_count": null,
   "id": "de2d9778",
   "metadata": {},
   "outputs": [],
   "source": []
  },
  {
   "cell_type": "code",
   "execution_count": null,
   "id": "3be14c0c",
   "metadata": {},
   "outputs": [],
   "source": []
  },
  {
   "cell_type": "code",
   "execution_count": null,
   "id": "feb2b03e",
   "metadata": {},
   "outputs": [],
   "source": []
  },
  {
   "cell_type": "code",
   "execution_count": 6,
   "id": "21ca3bbc",
   "metadata": {},
   "outputs": [
    {
     "data": {
      "application/javascript": [
       "IPython.notebook.set_autosave_interval(20000)"
      ]
     },
     "metadata": {},
     "output_type": "display_data"
    },
    {
     "name": "stdout",
     "output_type": "stream",
     "text": [
      "Autosaving every 20 seconds\n"
     ]
    }
   ],
   "source": [
    "%autosave 20"
   ]
  },
  {
   "cell_type": "code",
   "execution_count": null,
   "id": "7e8a00ab",
   "metadata": {},
   "outputs": [],
   "source": []
  },
  {
   "cell_type": "code",
   "execution_count": null,
   "id": "737616ee",
   "metadata": {},
   "outputs": [],
   "source": []
  }
 ],
 "metadata": {
  "kernelspec": {
   "display_name": "Python 3",
   "language": "python",
   "name": "python3"
  },
  "language_info": {
   "codemirror_mode": {
    "name": "ipython",
    "version": 3
   },
   "file_extension": ".py",
   "mimetype": "text/x-python",
   "name": "python",
   "nbconvert_exporter": "python",
   "pygments_lexer": "ipython3",
   "version": "3.9.5"
  }
 },
 "nbformat": 4,
 "nbformat_minor": 5
}
