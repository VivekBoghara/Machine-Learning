{
 "cells": [
  {
   "cell_type": "markdown",
   "id": "c197250f",
   "metadata": {},
   "source": [
    "# Importing Libraries"
   ]
  },
  {
   "cell_type": "code",
   "execution_count": 2,
   "id": "45582d60",
   "metadata": {},
   "outputs": [],
   "source": [
    "import numpy as np\n",
    "import pandas as pd\n",
    "import re\n",
    "import matplotlib.pyplot as plt\n",
    "import seaborn as sns"
   ]
  },
  {
   "cell_type": "code",
   "execution_count": null,
   "id": "4b57c4c7",
   "metadata": {},
   "outputs": [],
   "source": []
  },
  {
   "cell_type": "markdown",
   "id": "a915ab00",
   "metadata": {},
   "source": [
    "# Importing Dataset\n",
    "\n",
    "link:https://raw.githubusercontent.com/mk-gurucharan/Regression/master/IceCreamData.csv"
   ]
  },
  {
   "cell_type": "code",
   "execution_count": 3,
   "id": "264b5066",
   "metadata": {},
   "outputs": [],
   "source": [
    "df = pd.read_csv(\"https://raw.githubusercontent.com/mk-gurucharan/Regression/master/IceCreamData.csv\")"
   ]
  },
  {
   "cell_type": "markdown",
   "id": "6fb92591",
   "metadata": {},
   "source": [
    "# Data Analysis(EDA,DM,DE,DC,DV)"
   ]
  },
  {
   "cell_type": "code",
   "execution_count": 4,
   "id": "0ecf9541",
   "metadata": {},
   "outputs": [
    {
     "data": {
      "text/html": [
       "<div>\n",
       "<style scoped>\n",
       "    .dataframe tbody tr th:only-of-type {\n",
       "        vertical-align: middle;\n",
       "    }\n",
       "\n",
       "    .dataframe tbody tr th {\n",
       "        vertical-align: top;\n",
       "    }\n",
       "\n",
       "    .dataframe thead th {\n",
       "        text-align: right;\n",
       "    }\n",
       "</style>\n",
       "<table border=\"1\" class=\"dataframe\">\n",
       "  <thead>\n",
       "    <tr style=\"text-align: right;\">\n",
       "      <th></th>\n",
       "      <th>Temperature</th>\n",
       "      <th>Revenue</th>\n",
       "    </tr>\n",
       "  </thead>\n",
       "  <tbody>\n",
       "    <tr>\n",
       "      <th>0</th>\n",
       "      <td>24.566884</td>\n",
       "      <td>534.799028</td>\n",
       "    </tr>\n",
       "    <tr>\n",
       "      <th>1</th>\n",
       "      <td>26.005191</td>\n",
       "      <td>625.190122</td>\n",
       "    </tr>\n",
       "    <tr>\n",
       "      <th>2</th>\n",
       "      <td>27.790554</td>\n",
       "      <td>660.632289</td>\n",
       "    </tr>\n",
       "    <tr>\n",
       "      <th>3</th>\n",
       "      <td>20.595335</td>\n",
       "      <td>487.706960</td>\n",
       "    </tr>\n",
       "    <tr>\n",
       "      <th>4</th>\n",
       "      <td>11.503498</td>\n",
       "      <td>316.240194</td>\n",
       "    </tr>\n",
       "  </tbody>\n",
       "</table>\n",
       "</div>"
      ],
      "text/plain": [
       "   Temperature     Revenue\n",
       "0    24.566884  534.799028\n",
       "1    26.005191  625.190122\n",
       "2    27.790554  660.632289\n",
       "3    20.595335  487.706960\n",
       "4    11.503498  316.240194"
      ]
     },
     "execution_count": 4,
     "metadata": {},
     "output_type": "execute_result"
    }
   ],
   "source": [
    "df.head()"
   ]
  },
  {
   "cell_type": "code",
   "execution_count": 5,
   "id": "cdf73c0a",
   "metadata": {},
   "outputs": [
    {
     "name": "stdout",
     "output_type": "stream",
     "text": [
      "<class 'pandas.core.frame.DataFrame'>\n",
      "RangeIndex: 500 entries, 0 to 499\n",
      "Data columns (total 2 columns):\n",
      " #   Column       Non-Null Count  Dtype  \n",
      "---  ------       --------------  -----  \n",
      " 0   Temperature  500 non-null    float64\n",
      " 1   Revenue      500 non-null    float64\n",
      "dtypes: float64(2)\n",
      "memory usage: 7.9 KB\n"
     ]
    }
   ],
   "source": [
    "df.info()"
   ]
  },
  {
   "cell_type": "code",
   "execution_count": null,
   "id": "764bdc1d",
   "metadata": {},
   "outputs": [],
   "source": []
  },
  {
   "cell_type": "markdown",
   "id": "c7ac88ea",
   "metadata": {},
   "source": [
    "# Assigning features and targets"
   ]
  },
  {
   "cell_type": "code",
   "execution_count": 7,
   "id": "fbc9e87c",
   "metadata": {},
   "outputs": [],
   "source": [
    "x=np.array(df.Temperature)\n",
    "y=np.array(df.Revenue)"
   ]
  },
  {
   "cell_type": "markdown",
   "id": "dba081c8",
   "metadata": {},
   "source": [
    "# Splitting the dataset"
   ]
  },
  {
   "cell_type": "code",
   "execution_count": 8,
   "id": "8e68475e",
   "metadata": {},
   "outputs": [],
   "source": [
    "from sklearn.model_selection import train_test_split"
   ]
  },
  {
   "cell_type": "code",
   "execution_count": 9,
   "id": "acdfb212",
   "metadata": {},
   "outputs": [],
   "source": [
    "x_train,x_test,y_train,y_test = train_test_split(x,y,test_size=0.2)"
   ]
  },
  {
   "cell_type": "code",
   "execution_count": 10,
   "id": "ace61d54",
   "metadata": {},
   "outputs": [
    {
     "data": {
      "text/plain": [
       "400"
      ]
     },
     "execution_count": 10,
     "metadata": {},
     "output_type": "execute_result"
    }
   ],
   "source": [
    "len(x_train)"
   ]
  },
  {
   "cell_type": "code",
   "execution_count": 11,
   "id": "464c567d",
   "metadata": {},
   "outputs": [
    {
     "data": {
      "text/plain": [
       "100"
      ]
     },
     "execution_count": 11,
     "metadata": {},
     "output_type": "execute_result"
    }
   ],
   "source": [
    "len(x_test)"
   ]
  },
  {
   "cell_type": "code",
   "execution_count": null,
   "id": "73d7b027",
   "metadata": {},
   "outputs": [],
   "source": []
  },
  {
   "cell_type": "markdown",
   "id": "dc659beb",
   "metadata": {},
   "source": [
    "# Model Selection"
   ]
  },
  {
   "cell_type": "code",
   "execution_count": 12,
   "id": "59dc3b12",
   "metadata": {},
   "outputs": [],
   "source": [
    "from sklearn.ensemble import RandomForestRegressor"
   ]
  },
  {
   "cell_type": "code",
   "execution_count": 13,
   "id": "c06cc6a2",
   "metadata": {},
   "outputs": [],
   "source": [
    "regressor = RandomForestRegressor(n_estimators=10, random_state=0)  #<- This n_stimators shows the number of bootstrap trees in the regression"
   ]
  },
  {
   "cell_type": "code",
   "execution_count": null,
   "id": "c3fbd035",
   "metadata": {},
   "outputs": [],
   "source": []
  },
  {
   "cell_type": "markdown",
   "id": "c11cab57",
   "metadata": {},
   "source": [
    "# Training the model"
   ]
  },
  {
   "cell_type": "code",
   "execution_count": 15,
   "id": "d206461c",
   "metadata": {},
   "outputs": [
    {
     "name": "stderr",
     "output_type": "stream",
     "text": [
      "<ipython-input-15-fe775d2e6d90>:1: DataConversionWarning: A column-vector y was passed when a 1d array was expected. Please change the shape of y to (n_samples,), for example using ravel().\n",
      "  regressor.fit(x_train.reshape(-1,1),y_train.reshape(-1,1))\n"
     ]
    },
    {
     "data": {
      "text/plain": [
       "RandomForestRegressor(n_estimators=10, random_state=0)"
      ]
     },
     "execution_count": 15,
     "metadata": {},
     "output_type": "execute_result"
    }
   ],
   "source": [
    "regressor.fit(x_train.reshape(-1,1),y_train.reshape(-1,1))"
   ]
  },
  {
   "cell_type": "code",
   "execution_count": null,
   "id": "c2e829a3",
   "metadata": {},
   "outputs": [],
   "source": []
  },
  {
   "cell_type": "markdown",
   "id": "e7e0b271",
   "metadata": {},
   "source": [
    "# Testing the model"
   ]
  },
  {
   "cell_type": "code",
   "execution_count": 17,
   "id": "64c9b51f",
   "metadata": {},
   "outputs": [],
   "source": [
    "y_pred=regressor.predict(x_test.reshape(-1,1))"
   ]
  },
  {
   "cell_type": "code",
   "execution_count": 18,
   "id": "b8bbf9b9",
   "metadata": {},
   "outputs": [
    {
     "data": {
      "text/plain": [
       "array([647.12653925, 556.27225979, 555.37769911, 566.28489564,\n",
       "       576.31795572, 676.51900356, 487.43430824, 249.61566843,\n",
       "       383.30666445, 539.92997158, 394.28975229, 469.61039472,\n",
       "       917.72556599, 483.87934835, 607.99949954, 159.83594588,\n",
       "       628.20735412, 249.61566843, 645.64908545, 536.54931592,\n",
       "       362.4834642 , 405.79512528, 249.61566843, 256.2077574 ,\n",
       "       429.00624626, 308.69452565, 335.41622651, 282.13969482,\n",
       "       376.37297628, 564.31992574, 644.95658532, 514.44480522,\n",
       "       571.47992502, 375.26907984, 571.47992502, 237.1815162 ,\n",
       "       363.8477841 , 492.88316692, 704.61524954, 496.50353829,\n",
       "       616.88908189, 393.4840489 , 628.5513163 , 533.6196985 ,\n",
       "       494.38678905, 636.7913377 , 727.92689158, 464.92899896,\n",
       "       926.79747191, 625.40066984, 765.52036982, 451.60048637,\n",
       "       645.00047238, 316.24013157, 513.50271508, 541.49387102,\n",
       "       584.32622304, 746.43954324, 389.43499052, 693.73132345,\n",
       "       686.37908977, 596.6660131 , 290.01732363, 433.26831251,\n",
       "       290.01732363, 324.16411271, 295.31722419, 159.48874782,\n",
       "       178.23514988, 389.43499052, 804.02060941, 615.02902126,\n",
       "       413.18221519, 588.88084736, 531.07400912, 746.43954324,\n",
       "       550.07016532, 400.23521472, 314.24970796, 599.1976633 ,\n",
       "       464.98370693, 131.60396049, 541.86669759, 697.2055852 ,\n",
       "       274.64567181, 644.95658532, 295.54558564, 433.58177006,\n",
       "       475.25154934, 649.21999422, 661.60923806, 389.43499052,\n",
       "       490.79851861, 525.08389586, 515.70085303, 433.26831251,\n",
       "       299.31321628, 560.82135035, 191.76084155, 691.3884987 ])"
      ]
     },
     "execution_count": 18,
     "metadata": {},
     "output_type": "execute_result"
    }
   ],
   "source": [
    "y_pred"
   ]
  },
  {
   "cell_type": "code",
   "execution_count": 19,
   "id": "be527298",
   "metadata": {},
   "outputs": [
    {
     "data": {
      "text/plain": [
       "array([636.298374 , 588.5275513, 608.6299921, 526.5470649, 625.1901215,\n",
       "       655.6603879, 416.8486183, 242.2362083, 374.231135 , 501.34533  ,\n",
       "       396.9356482, 449.8133003, 898.805423 , 425.0120182, 583.7597813,\n",
       "       186.4764868, 599.1163601, 241.2785475, 649.729072 , 534.3645388,\n",
       "       351.2888691, 385.6725008, 221.2232906, 291.7230401, 441.0029443,\n",
       "       344.6887652, 358.0028493, 300.9322734, 395.2737497, 569.6187562,\n",
       "       662.5589903, 521.2673794, 648.2099977, 383.9562396, 596.9842407,\n",
       "       258.2868099, 315.6465807, 533.3243245, 696.6401775, 526.7008607,\n",
       "       612.2437215, 405.6614459, 655.4339792, 584.399945 , 500.9250645,\n",
       "       632.901914 , 740.9356848, 477.2950539, 875.0193476, 594.8724701,\n",
       "       809.3525195, 517.5340283, 581.0740052, 335.1568558, 535.7089203,\n",
       "       506.4937476, 538.31289  , 711.1740653, 381.5641352, 746.9463889,\n",
       "       702.6236136, 579.3073878, 293.9263927, 412.0650006, 278.7319615,\n",
       "       333.3342585, 289.5409341, 242.5098553, 170.2377561, 406.5792487,\n",
       "       781.9837945, 726.2337713, 440.6778286, 572.6720474, 512.5881071,\n",
       "       675.807151 , 538.1796842, 405.2503868, 325.9684084, 583.0844489,\n",
       "       459.7353497, 118.8121496, 570.9909316, 690.7892959, 283.6796571,\n",
       "       682.8085663, 308.8945179, 463.4805082, 475.5382094, 618.1720908,\n",
       "       618.2357655, 394.1686196, 520.4703098, 489.5690899, 530.356713 ,\n",
       "       402.7931738, 280.5184674, 607.5421478, 158.8498064, 696.7166402])"
      ]
     },
     "execution_count": 19,
     "metadata": {},
     "output_type": "execute_result"
    }
   ],
   "source": [
    "y_test"
   ]
  },
  {
   "cell_type": "code",
   "execution_count": 26,
   "id": "a3fb40db",
   "metadata": {},
   "outputs": [],
   "source": [
    "pred=pd.DataFrame({\"Actual\": y_test,\n",
    "                  \"Prediction\": y_pred})"
   ]
  },
  {
   "cell_type": "code",
   "execution_count": 25,
   "id": "b4536a2a",
   "metadata": {},
   "outputs": [
    {
     "data": {
      "text/html": [
       "<div>\n",
       "<style scoped>\n",
       "    .dataframe tbody tr th:only-of-type {\n",
       "        vertical-align: middle;\n",
       "    }\n",
       "\n",
       "    .dataframe tbody tr th {\n",
       "        vertical-align: top;\n",
       "    }\n",
       "\n",
       "    .dataframe thead th {\n",
       "        text-align: right;\n",
       "    }\n",
       "</style>\n",
       "<table border=\"1\" class=\"dataframe\">\n",
       "  <thead>\n",
       "    <tr style=\"text-align: right;\">\n",
       "      <th></th>\n",
       "      <th>Actual</th>\n",
       "      <th>Prediction</th>\n",
       "    </tr>\n",
       "  </thead>\n",
       "  <tbody>\n",
       "    <tr>\n",
       "      <th>0</th>\n",
       "      <td>636.298374</td>\n",
       "      <td>647.126539</td>\n",
       "    </tr>\n",
       "    <tr>\n",
       "      <th>1</th>\n",
       "      <td>588.527551</td>\n",
       "      <td>556.272260</td>\n",
       "    </tr>\n",
       "    <tr>\n",
       "      <th>2</th>\n",
       "      <td>608.629992</td>\n",
       "      <td>555.377699</td>\n",
       "    </tr>\n",
       "    <tr>\n",
       "      <th>3</th>\n",
       "      <td>526.547065</td>\n",
       "      <td>566.284896</td>\n",
       "    </tr>\n",
       "    <tr>\n",
       "      <th>4</th>\n",
       "      <td>625.190122</td>\n",
       "      <td>576.317956</td>\n",
       "    </tr>\n",
       "  </tbody>\n",
       "</table>\n",
       "</div>"
      ],
      "text/plain": [
       "       Actual  Prediction\n",
       "0  636.298374  647.126539\n",
       "1  588.527551  556.272260\n",
       "2  608.629992  555.377699\n",
       "3  526.547065  566.284896\n",
       "4  625.190122  576.317956"
      ]
     },
     "execution_count": 25,
     "metadata": {},
     "output_type": "execute_result"
    }
   ],
   "source": [
    "pred.head()"
   ]
  },
  {
   "cell_type": "code",
   "execution_count": 29,
   "id": "7bbacec2",
   "metadata": {},
   "outputs": [
    {
     "data": {
      "text/plain": [
       "Text(0, 0.5, 'Revenue')"
      ]
     },
     "execution_count": 29,
     "metadata": {},
     "output_type": "execute_result"
    },
    {
     "data": {
      "image/png": "[encoded data removed]",
      "text/plain": [
       "<Figure size 432x288 with 1 Axes>"
      ]
     },
     "metadata": {
      "needs_background": "light"
     },
     "output_type": "display_data"
    }
   ],
   "source": [
    "plt.scatter(x_test,y_test, color=\"red\")\n",
    "plt.scatter(x_test,y_pred, color=\"green\")\n",
    "plt.xlabel(\"Temperature\")\n",
    "plt.ylabel(\"Revenue\")"
   ]
  },
  {
   "cell_type": "code",
   "execution_count": 31,
   "id": "7eac636a",
   "metadata": {},
   "outputs": [
    {
     "data": {
      "text/plain": [
       "<AxesSubplot:>"
      ]
     },
     "execution_count": 31,
     "metadata": {},
     "output_type": "execute_result"
    },
    {
     "data": {
      "image/png": "[encoded data removed]",
      "text/plain": [
       "<Figure size 432x288 with 2 Axes>"
      ]
     },
     "metadata": {
      "needs_background": "light"
     },
     "output_type": "display_data"
    }
   ],
   "source": [
    "sns.heatmap(pred.corr(),annot=True)"
   ]
  },
  {
   "cell_type": "code",
   "execution_count": 32,
   "id": "86bcd1ea",
   "metadata": {},
   "outputs": [],
   "source": [
    "from sklearn.metrics import r2_score"
   ]
  },
  {
   "cell_type": "code",
   "execution_count": 33,
   "id": "fd73c9a0",
   "metadata": {},
   "outputs": [
    {
     "data": {
      "text/plain": [
       "0.9608663827409857"
      ]
     },
     "execution_count": 33,
     "metadata": {},
     "output_type": "execute_result"
    }
   ],
   "source": [
    "r2_score(y_test,y_pred)"
   ]
  },
  {
   "cell_type": "code",
   "execution_count": 36,
   "id": "7935b796",
   "metadata": {},
   "outputs": [],
   "source": [
    "from sklearn.metrics import mean_absolute_error,mean_squared_error"
   ]
  },
  {
   "cell_type": "code",
   "execution_count": 37,
   "id": "66249bbf",
   "metadata": {},
   "outputs": [
    {
     "data": {
      "text/plain": [
       "25.642092054109995"
      ]
     },
     "execution_count": 37,
     "metadata": {},
     "output_type": "execute_result"
    }
   ],
   "source": [
    "mean_absolute_error(y_test,y_pred)"
   ]
  },
  {
   "cell_type": "code",
   "execution_count": 38,
   "id": "67097ef4",
   "metadata": {},
   "outputs": [
    {
     "data": {
      "text/plain": [
       "1070.0405140189519"
      ]
     },
     "execution_count": 38,
     "metadata": {},
     "output_type": "execute_result"
    }
   ],
   "source": [
    "mean_squared_error(y_test,y_pred)"
   ]
  },
  {
   "cell_type": "code",
   "execution_count": null,
   "id": "37cdb81e",
   "metadata": {},
   "outputs": [],
   "source": []
  },
  {
   "cell_type": "code",
   "execution_count": null,
   "id": "868f8bd6",
   "metadata": {},
   "outputs": [],
   "source": []
  },
  {
   "cell_type": "code",
   "execution_count": 35,
   "id": "ac125a30",
   "metadata": {
    "scrolled": true
   },
   "outputs": [
    {
     "data": {
      "text/plain": [
       "0.9608663827409857"
      ]
     },
     "execution_count": 35,
     "metadata": {},
     "output_type": "execute_result"
    }
   ],
   "source": [
    "regressor.score(x_test.reshape(-1,1),y_test.reshape(-1,1))"
   ]
  },
  {
   "cell_type": "code",
   "execution_count": null,
   "id": "a2c20cf4",
   "metadata": {},
   "outputs": [],
   "source": []
  },
  {
   "cell_type": "code",
   "execution_count": null,
   "id": "627daf11",
   "metadata": {},
   "outputs": [],
   "source": []
  },
  {
   "cell_type": "code",
   "execution_count": null,
   "id": "323f33b1",
   "metadata": {},
   "outputs": [],
   "source": []
  },
  {
   "cell_type": "code",
   "execution_count": null,
   "id": "8b358e09",
   "metadata": {},
   "outputs": [],
   "source": []
  },
  {
   "cell_type": "code",
   "execution_count": null,
   "id": "ee40e484",
   "metadata": {},
   "outputs": [],
   "source": []
  },
  {
   "cell_type": "code",
   "execution_count": null,
   "id": "f3ec65d3",
   "metadata": {},
   "outputs": [],
   "source": []
  },
  {
   "cell_type": "code",
   "execution_count": null,
   "id": "fb466c50",
   "metadata": {},
   "outputs": [],
   "source": []
  },
  {
   "cell_type": "code",
   "execution_count": null,
   "id": "6ac0dad9",
   "metadata": {},
   "outputs": [],
   "source": []
  },
  {
   "cell_type": "code",
   "execution_count": null,
   "id": "d52b4845",
   "metadata": {},
   "outputs": [],
   "source": []
  },
  {
   "cell_type": "code",
   "execution_count": null,
   "id": "ca0c44cd",
   "metadata": {},
   "outputs": [],
   "source": []
  },
  {
   "cell_type": "code",
   "execution_count": null,
   "id": "9aeca19a",
   "metadata": {},
   "outputs": [],
   "source": []
  },
  {
   "cell_type": "code",
   "execution_count": null,
   "id": "3b1301eb",
   "metadata": {},
   "outputs": [],
   "source": []
  },
  {
   "cell_type": "code",
   "execution_count": null,
   "id": "879622ae",
   "metadata": {},
   "outputs": [],
   "source": []
  },
  {
   "cell_type": "code",
   "execution_count": null,
   "id": "8a8c9e26",
   "metadata": {},
   "outputs": [],
   "source": []
  }
 ],
 "metadata": {
  "kernelspec": {
   "display_name": "Python 3",
   "language": "python",
   "name": "python3"
  },
  "language_info": {
   "codemirror_mode": {
    "name": "ipython",
    "version": 3
   },
   "file_extension": ".py",
   "mimetype": "text/x-python",
   "name": "python",
   "nbconvert_exporter": "python",
   "pygments_lexer": "ipython3",
   "version": "3.9.5"
  }
 },
 "nbformat": 4,
 "nbformat_minor": 5
}
